{
 "cells": [
  {
   "cell_type": "markdown",
   "metadata": {},
   "source": [
    "# 加速：多線程爬蟲\n",
    "\n",
    "\n",
    "\n",
    "* 了解知乎 API 使用方式與回傳內容\n",
    "* 撰寫程式存取 API 且添加標頭"
   ]
  },
  {
   "cell_type": "markdown",
   "metadata": {},
   "source": [
    "## 作業目標\n",
    "\n",
    "* 找一個之前實作過的爬蟲改用多線程改寫，比較前後時間的差異。\n",
    "\n",
    "\n",
    "\n"
   ]
  },
  {
   "cell_type": "code",
   "execution_count": 5,
   "metadata": {
    "tags": [
     "outputPrepend"
    ]
   },
   "outputs": [
    {
     "output_type": "stream",
     "name": "stdout",
     "text": "e\",\"name\":\"詩文\",\"description\":\"詩文板提供分享討論新詩、散文、小說等文章，也歡迎各種詩詞文章創作在此發表。\",\"subscriptionCount\":15475,\"subscribed\":false,\"read\":false,\"createdAt\":\"2020-02-04T07:51:53.573Z\",\"updatedAt\":\"2020-02-04T07:53:43.573Z\",\"canPost\":false,\"ignorePost\":false,\"invisible\":false,\"isSchool\":false,\"fullyAnonymous\":false,\"canUseNickname\":true,\"postThumbnail\":{\"size\":\"small\"},\"shouldCategorized\":false,\"shouldPostCategorize\":false,\"titlePlaceholder\":\"發文記得加入「話題」分類喲！\",\"postTitlePlaceholder\":\"\",\"ipCountryCondition\":{},\"subcategories\":[\"新詩\",\"散文\",\"小說\",\"詞創\"],\"topics\":[\"新詩\",\"散文\",\"小說\",\"詞創\"],\"nsfw\":false,\"mediaThreshold\":{},\"limitCountries\":[],\"limitStage\":0,\"availableLayouts\":[\"classic\"],\"heroImage\":{\"url\":\"https://megapx-assets.dcard.tw/images/b5dcb264-1714-431c-8ac1-609cd276096d/orig.jpeg\",\"type\":\"image/jpeg\",\"width\":1800,\"height\":600},\"logo\":{\"url\":\"https://megapx-stage-assets.dcard.io/images/722d0d37-3326-4c46-bee5-2fc9037201b0/full.jpeg\",\"type\":\"image/jpeg\",\"width\":200,\"height\":200},\"postCount\":{\"last30Days\":292},\"favorite\":false},{\"id\":\"a91cd696-aaa9-4e11-a216-e7d37f898ec7\",\"alias\":\"taichung\",\"name\":\"台中\",\"description\":\"歡迎分享屬於你（妳）的台中故事，生活、美食、工作等等，都是你可以分享的內容。\",\"subscriptionCount\":16296,\"subscribed\":false,\"read\":false,\"createdAt\":\"2020-02-04T07:52:03.573Z\",\"updatedAt\":\"2020-02-04T07:53:43.573Z\",\"canPost\":false,\"ignorePost\":false,\"invisible\":false,\"isSchool\":false,\"fullyAnonymous\":false,\"canUseNickname\":true,\"postThumbnail\":{\"size\":\"small\"},\"shouldCategorized\":false,\"shouldPostCategorize\":false,\"titlePlaceholder\":\"\",\"postTitlePlaceholder\":\"\",\"ipCountryCondition\":{},\"subcategories\":[],\"topics\":[],\"nsfw\":false,\"mediaThreshold\":{},\"limitCountries\":[],\"limitStage\":0,\"availableLayouts\":[\"classic\"],\"heroImage\":{\"url\":\"https://megapx-assets.dcard.tw/images/a4c95571-905e-41e3-8dad-b7b9514ffd5c/orig.jpeg\",\"type\":\"image/jpeg\",\"width\":1800,\"height\":600},\"logo\":{\"url\":\"https://megapx-stage-assets.dcard.io/images/06b43066-c8bf-4b34-aa79-0d5cc9bd7384/full.jpeg\",\"type\":\"image/jpeg\",\"width\":200,\"height\":200},\"postCount\":{\"last30Days\":143},\"favorite\":false},{\"id\":\"f70adbe9-4a58-4dd6-b6a0-7e5e06e2afce\",\"alias\":\"kaohsiung\",\"name\":\"高雄\",\"description\":\"better  than Kaohsiung\\n只要你是關心高雄 熱愛高雄的朋友們，都歡迎分享屬於你自己的高雄故事，無論是推薦的地方美食啦！或者是協尋等等之類的\",\"subscriptionCount\":9365,\"subscribed\":false,\"read\":false,\"createdAt\":\"2020-02-04T07:52:13.573Z\",\"updatedAt\":\"2020-03-29T12:24:00.073Z\",\"canPost\":false,\"ignorePost\":false,\"invisible\":false,\"isSchool\":false,\"fullyAnonymous\":false,\"canUseNickname\":true,\"postThumbnail\":{\"size\":\"small\"},\"shouldCategorized\":false,\"shouldPostCategorize\":false,\"titlePlaceholder\":\"\",\"postTitlePlaceholder\":\"\",\"ipCountryCondition\":{},\"subcategories\":[],\"topics\":[\"韓國瑜\",\"罷免韓國瑜\",\"高雄美食\",\"武漢肺炎\",\"高雄旅遊\"],\"nsfw\":false,\"mediaThreshold\":{},\"limitCountries\":[],\"limitStage\":0,\"availableLayouts\":[\"classic\"],\"heroImage\":{\"url\":\"https://megapx-assets.dcard.tw/images/029c483b-627d-4c99-995e-7e84c36b9c7c/orig.jpeg\",\"type\":\"image/jpeg\",\"width\":800,\"height\":267},\"logo\":{\"url\":\"https://megapx-stage-assets.dcard.io/images/224c15f4-2eba-4e18-b556-a5f874f1cb31/full.jpeg\",\"type\":\"image/jpeg\",\"width\":200,\"height\":200},\"postCount\":{\"last30Days\":77},\"favorite\":false},{\"id\":\"e33fd5d2-025f-46e4-8b81-3f6fecdd25e1\",\"alias\":\"whysoserious\",\"name\":\"廢文\",\"description\":\"人生苦短，why so serious\",\"subscriptionCount\":18492,\"subscribed\":false,\"read\":false,\"createdAt\":\"2020-02-04T07:52:23.573Z\",\"updatedAt\":\"2020-02-04T07:53:43.573Z\",\"canPost\":false,\"ignorePost\":true,\"invisible\":true,\"isSchool\":false,\"fullyAnonymous\":false,\"canUseNickname\":true,\"postThumbnail\":{\"size\":\"small\"},\"shouldCategorized\":false,\"shouldPostCategorize\":false,\"titlePlaceholder\":\"\",\"postTitlePlaceholder\":\"\",\"ipCountryCondition\":{},\"subcategories\":[],\"topics\":[],\"nsfw\":false,\"mediaThreshold\":{},\"limitCountries\":[],\"limitStage\":2,\"availableLayouts\":[\"classic\"],\"heroImage\":{\"url\":\"https://megapx-assets.dcard.tw/images/01e5491d-63ea-4253-a0a4-0dfad39d93c6/orig.jpeg\",\"type\":\"image/jpeg\",\"width\":1800,\"height\":600},\"logo\":{\"url\":\"https://megapx-stage-assets.dcard.io/images/acb74d53-c013-4621-aaa9-2afbf176b47e/full.jpeg\",\"type\":\"image/jpeg\",\"width\":200,\"height\":200},\"postCount\":{\"last30Days\":69166},\"favorite\":false},{\"id\":\"3a7bac6f-f2cb-471d-b4fd-17bd26c9249a\",\"alias\":\"disaster\",\"name\":\"災害回報\",\"description\":\"本板提供即時災害回報，或各地物資需求分享的專區。\",\"subscriptionCount\":5331,\"subscribed\":false,\"read\":false,\"createdAt\":\"2020-02-04T07:52:33.573Z\",\"updatedAt\":\"2020-02-04T07:53:43.573Z\",\"canPost\":false,\"ignorePost\":false,\"invisible\":false,\"isSchool\":false,\"fullyAnonymous\":false,\"canUseNickname\":true,\"postThumbnail\":{\"size\":\"small\"},\"shouldCategorized\":false,\"shouldPostCategorize\":false,\"titlePlaceholder\":\"\",\"postTitlePlaceholder\":\"\",\"ipCountryCondition\":{},\"subcategories\":[],\"topics\":[],\"nsfw\":false,\"mediaThreshold\":{},\"limitCountries\":[],\"limitStage\":0,\"availableLayouts\":[\"classic\"],\"heroImage\":{\"url\":\"https://megapx-assets.dcard.tw/images/dbcb6b7d-6c36-4795-92c8-d7af210cd414/orig.jpeg\",\"type\":\"image/jpeg\",\"width\":1800,\"height\":600},\"logo\":{\"url\":\"https://megapx-stage-assets.dcard.io/images/aedf0e33-2425-43cb-807b-1e10c6130424/full.jpeg\",\"type\":\"image/jpeg\",\"width\":200,\"height\":200},\"postCount\":{\"last30Days\":1},\"favorite\":false},{\"id\":\"0c7337db-20ae-43d8-a310-9b22d6ba5f9d\",\"alias\":\"dcard\",\"name\":\"建議回饋\",\"description\":\"建議回饋板主要提供 Dcard 產品使用上的問題或功能建議討論。\\n若對文章有疑慮請善用檢舉功能或私訊 Dcard 客服。\",\"subscriptionCount\":12636,\"subscribed\":false,\"read\":false,\"createdAt\":\"2020-02-04T07:52:43.573Z\",\"updatedAt\":\"2020-02-04T07:53:43.573Z\",\"canPost\":false,\"ignorePost\":true,\"invisible\":false,\"isSchool\":false,\"fullyAnonymous\":false,\"canUseNickname\":true,\"postThumbnail\":{\"size\":\"small\"},\"shouldCategorized\":false,\"shouldPostCategorize\":false,\"titlePlaceholder\":\"\",\"postTitlePlaceholder\":\"\",\"ipCountryCondition\":{},\"subcategories\":[],\"topics\":[\"小天使公告\",\"Dcard新功能\",\"開板連署文\"],\"nsfw\":false,\"mediaThreshold\":{},\"limitCountries\":[],\"limitStage\":0,\"availableLayouts\":[\"classic\"],\"heroImage\":{\"url\":\"https://megapx-assets.dcard.tw/images/46921746-51a7-42af-961e-f4ee3b412866/orig.jpeg\",\"type\":\"image/jpeg\",\"width\":1800,\"height\":600},\"logo\":{\"url\":\"https://megapx-assets.dcard.tw/images/7ce06c3e-c268-40de-a6af-9fde37bf577c/orig.jpeg\",\"type\":\"image/jpeg\",\"width\":200,\"height\":200},\"postCount\":{\"last30Days\":52},\"favorite\":false},{\"id\":\"1ce3ebca-8701-42d5-b14c-076fc629bc8e\",\"alias\":\"sex\",\"name\":\"西斯\",\"description\":\"西斯板（Sex）提供男女私密話題分享或性教育等情慾議題討論，若有性方面相關問題也可在此發問。（發文前請詳閱板規。）\",\"subscriptionCount\":329989,\"subscribed\":false,\"read\":false,\"createdAt\":\"2020-02-04T07:52:53.573Z\",\"updatedAt\":\"2020-02-13T08:46:09.341Z\",\"canPost\":false,\"ignorePost\":true,\"invisible\":true,\"isSchool\":false,\"fullyAnonymous\":true,\"canUseNickname\":false,\"postThumbnail\":{\"size\":\"small\"},\"shouldCategorized\":false,\"shouldPostCategorize\":false,\"titlePlaceholder\":\"發文請記得在下一頁加入話題或其他相關分類喲！\",\"postTitlePlaceholder\":\"\",\"ipCountryCondition\":{},\"subcategories\":[\"創作\",\"知識\",\"圖文\"],\"topics\":[\"A片\",\"甲\",\"小熊貝爾\",\"Les\",\"無碼片\",\"NTR\",\"內射\",\"自慰\",\"3P\",\"外流\",\"意淫自拍OL黑絲\",\"玩具大賞\",\"情趣用品\",\"大雞雞\",\"保險套\",\"約炮\",\"H漫\",\"調教\",\"潤滑液\",\"做愛\"],\"nsfw\":true,\"mediaThreshold\":{\"RACY\":1,\"ADULT\":1,\"VIOLENCE\":1},\"limitCountries\":[],\"limitStage\":0,\"availableLayouts\":[\"classic\"],\"heroImage\":{\"url\":\"https://megapx-assets.dcard.tw/images/50a4b6e7-fe05-493c-af56-ac63a1a73259/orig.jpeg\",\"type\":\"image/jpeg\",\"width\":1800,\"height\":600},\"logo\":{\"url\":\"https://megapx-stage-assets.dcard.io/images/b572e7d6-612b-4c1a-9802-79fdc108cbbf/full.jpeg\",\"type\":\"image/jpeg\",\"width\":200,\"height\":200},\"postCount\":{\"last30Days\":3278},\"favorite\":false},{\"id\":\"546b4c64-c37f-4907-adcb-cf37bda4ce8f\",\"alias\":\"sex_literature\",\"name\":\"西斯文學\",\"description\":\"透過文字的力量，更能感受到性與愛的美好\\n跳脫肉體照片的框架，讓我們一起進入情色文學的懷抱\\n啊.....來吧....進入我吧....嗯..\",\"subscriptionCount\":43812,\"subscribed\":false,\"read\":false,\"createdAt\":\"2020-02-04T07:53:03.573Z\",\"updatedAt\":\"2020-02-04T07:53:43.573Z\",\"canPost\":false,\"ignorePost\":true,\"invisible\":true,\"isSchool\":false,\"fullyAnonymous\":true,\"canUseNickname\":false,\"postThumbnail\":{\"size\":\"small\"},\"shouldCategorized\":false,\"shouldPostCategorize\":false,\"titlePlaceholder\":\"\",\"postTitlePlaceholder\":\"\",\"ipCountryCondition\":{},\"subcategories\":[],\"topics\":[\"成人\",\"色情文學\",\"情色文學\",\"西斯文學\"],\"nsfw\":true,\"mediaThreshold\":{\"RACY\":1,\"ADULT\":1,\"VIOLENCE\":1},\"limitCountries\":[],\"limitStage\":0,\"availableLayouts\":[\"classic\"],\"heroImage\":{\"url\":\"https://megapx-assets.dcard.tw/images/2e74c4f8-9f18-4174-ae65-020c131b180f/orig.jpeg\",\"type\":\"image/jpeg\",\"width\":1800,\"height\":600},\"logo\":{\"url\":\"https://megapx-assets.dcard.tw/images/c35188c6-11f8-4ba4-b814-4055f87f8201/orig.jpeg\",\"type\":\"image/jpeg\",\"width\":200,\"height\":200},\"postCount\":{\"last30Days\":122},\"favorite\":false},{\"id\":\"e49886b8-f081-42a2-8f7b-a5195bb1ac2b\",\"alias\":\"gaysex\",\"name\":\"男同志西斯\",\"description\":\"👨‍❤️‍💋‍👨 屬於男同志的小天地。\\n圖片或影片縮圖記得不能出現生殖器呀🧏🏻‍♂️\\n請用實心色塊遮蔽或縮短網址處理👨🏻‍✈️\",\"subscriptionCount\":16039,\"subscribed\":false,\"read\":false,\"createdAt\":\"2020-02-04T07:53:13.573Z\",\"updatedAt\":\"2020-02-18T18:25:15.382Z\",\"canPost\":false,\"ignorePost\":true,\"invisible\":true,\"isSchool\":false,\"fullyAnonymous\":true,\"canUseNickname\":true,\"postThumbnail\":{\"size\":\"small\"},\"shouldCategorized\":false,\"shouldPostCategorize\":false,\"titlePlaceholder\":\"\",\"postTitlePlaceholder\":\"開頭請 #分類 如：#找片\",\"ipCountryCondition\":{},\"subcategories\":[],\"topics\":[\"找片\",\"野裸\",\"控射\",\"BDSM\",\"熊\",\"多人\",\"鞋襪\",\"情趣\",\"鮮肉\",\"大叔\",\"腿控\",\"喜好\",\"正太\",\"性生活\"],\"nsfw\":true,\"mediaThreshold\":{},\"limitCountries\":[],\"limitStage\":0,\"availableLayouts\":[\"classic\"],\"heroImage\":{\"url\":\"https://megapx-assets.dcard.tw/images/c3e3c72d-b697-4c59-9c72-2ce81f00a6fd/orig.jpeg\",\"type\":\"image/jpeg\",\"width\":1800,\"height\":600},\"logo\":{\"url\":\"https://megapx-assets.dcard.tw/images/1e072eb6-3cb3-47a9-914a-4529fdc125d8/orig.jpeg\",\"type\":\"image/jpeg\",\"width\":200,\"height\":200},\"postCount\":{\"last30Days\":428},\"favorite\":false},{\"id\":\"3443ed73-6de8-4fea-87e8-176bbd8a2506\",\"alias\":\"ero_manga\",\"name\":\"色情漫畫\",\"description\":\"請在第一個 #後面說明發文的意圖 (ex: #請益, #分享, #討論\\n第二個 #後面加上題材類型 (ex: #獵奇, #ntr, #觸手, #鬼畜\\n但是我發現沒有人理我\\nQwQ\",\"subscriptionCount\":32809,\"subscribed\":false,\"read\":false,\"createdAt\":\"2020-02-04T07:53:23.573Z\",\"updatedAt\":\"2020-02-04T07:53:43.573Z\",\"canPost\":false,\"ignorePost\":true,\"invisible\":true,\"isSchool\":false,\"fullyAnonymous\":true,\"canUseNickname\":true,\"postThumbnail\":{\"size\":\"small\"},\"shouldCategorized\":false,\"shouldPostCategorize\":false,\"titlePlaceholder\":\"\",\"postTitlePlaceholder\":\"\",\"ipCountryCondition\":{},\"subcategories\":[],\"topics\":[\"純愛\",\"NTR\"],\"nsfw\":true,\"mediaThreshold\":{},\"limitCountries\":[],\"limitStage\":0,\"availableLayouts\":[\"classic\"],\"heroImage\":{\"url\":\"https://megapx-assets.dcard.tw/images/2159befe-da0d-41c4-a6ce-a30962756896/orig.jpeg\",\"type\":\"image/jpeg\",\"width\":1280,\"height\":427},\"logo\":{\"url\":\"https://megapx-assets.dcard.tw/images/16d81a52-3cb6-4afe-a2af-16f5b9d9c5fb/orig.jpeg\",\"type\":\"image/jpeg\",\"width\":200,\"height\":200},\"postCount\":{\"last30Days\":128},\"favorite\":false},{\"id\":\"f9355cbd-cc87-44e6-9ab9-d261522c63c4\",\"alias\":\"bdsm\",\"name\":\"BDSM\",\"description\":\"歡迎大家交流各種 BDSM 資訊與個人心得。\",\"subscriptionCount\":7453,\"subscribed\":false,\"read\":false,\"createdAt\":\"2020-02-04T07:53:33.573Z\",\"updatedAt\":\"2020-03-21T17:28:46.696Z\",\"canPost\":false,\"ignorePost\":true,\"invisible\":true,\"isSchool\":false,\"fullyAnonymous\":true,\"canUseNickname\":true,\"postThumbnail\":{\"size\":\"small\"},\"shouldCategorized\":false,\"shouldPostCategorize\":false,\"titlePlaceholder\":\"\",\"postTitlePlaceholder\":\"標題請加上 分類#\",\"ipCountryCondition\":{},\"subcategories\":[],\"topics\":[],\"nsfw\":true,\"mediaThreshold\":{},\"limitCountries\":[],\"limitStage\":0,\"availableLayouts\":[\"classic\"],\"heroImage\":{\"url\":\"https://megapx-assets.dcard.tw/images/0b195a21-dcc6-4d1d-b250-3a01acb101fe/orig.jpeg\",\"type\":\"image/jpeg\",\"width\":1418,\"height\":472},\"logo\":{\"url\":\"https://megapx-assets.dcard.tw/images/2b1cc3ac-a5a8-4f0a-8984-988a333584f2/orig.jpeg\",\"type\":\"image/jpeg\",\"width\":200,\"height\":200},\"postCount\":{\"last30Days\":99},\"favorite\":false},{\"id\":\"05961595-fe4a-4843-9b54-4ec22951aa3f\",\"alias\":\"life_in_europe\",\"name\":\"歐洲生活\",\"description\":\"分享各種在歐洲生活的大小事，例如職場、旅遊、文化等\",\"subscriptionCount\":2790,\"subscribed\":false,\"read\":false,\"createdAt\":\"2020-02-24T06:40:28.102Z\",\"updatedAt\":\"2020-03-10T15:07:42.899Z\",\"canPost\":false,\"ignorePost\":false,\"invisible\":false,\"isSchool\":false,\"fullyAnonymous\":false,\"canUseNickname\":true,\"postThumbnail\":{\"size\":\"small\"},\"shouldCategorized\":false,\"shouldPostCategorize\":false,\"titlePlaceholder\":\"\",\"postTitlePlaceholder\":\"\",\"ipCountryCondition\":{},\"subcategories\":[],\"topics\":[],\"nsfw\":false,\"mediaThreshold\":{},\"limitCountries\":[],\"limitStage\":0,\"availableLayouts\":[\"classic\"],\"heroImage\":{\"url\":\"https://megapx-assets.dcard.tw/images/faf0c3ef-6ee7-4d02-8be1-17fde5726018/orig.jpeg\",\"type\":\"image/jpeg\",\"width\":1800,\"height\":600},\"logo\":{\"url\":\"https://megapx-assets.dcard.tw/images/8a6bdd28-91a2-43f6-a6f8-91d7cffba77f/orig.jpeg\",\"type\":\"image/jpeg\",\"width\":200,\"height\":200},\"postCount\":{\"last30Days\":13},\"favorite\":false},{\"id\":\"771433b1-f9d6-4a70-a9f8-1a8540bfe1b0\",\"alias\":\"test_hk\",\"name\":\"測試香港看板\",\"description\":\"\",\"subscriptionCount\":57,\"subscribed\":false,\"read\":false,\"createdAt\":\"2020-02-25T10:01:27.581Z\",\"updatedAt\":\"2020-02-26T09:11:36.709Z\",\"canPost\":false,\"ignorePost\":true,\"invisible\":true,\"isSchool\":false,\"fullyAnonymous\":false,\"canUseNickname\":true,\"postThumbnail\":{\"size\":\"small\"},\"shouldCategorized\":false,\"shouldPostCategorize\":false,\"titlePlaceholder\":\"\",\"postTitlePlaceholder\":\"\",\"ipCountryCondition\":{\"exclude\":[],\"include\":[\"HK\"]},\"subcategories\":[],\"topics\":[],\"nsfw\":false,\"mediaThreshold\":{},\"limitCountries\":[],\"limitStage\":0,\"availableLayouts\":[\"classic\"],\"postCount\":{\"last30Days\":1},\"favorite\":false},{\"id\":\"9320ddc4-9f23-40ad-970a-f43906bb947b\",\"alias\":\"hksponsored\",\"name\":\"HK 贊助活動\",\"description\":\"Dcard HK 官方提供各項優惠資訊的看板\",\"subscriptionCount\":3,\"subscribed\":false,\"read\":false,\"createdAt\":\"2020-03-05T04:28:23.785Z\",\"updatedAt\":\"2020-03-19T05:50:11.714Z\",\"canPost\":false,\"ignorePost\":false,\"invisible\":true,\"isSchool\":false,\"fullyAnonymous\":false,\"canUseNickname\":true,\"postThumbnail\":{\"size\":\"small\"},\"shouldCategorized\":false,\"shouldPostCategorize\":false,\"titlePlaceholder\":\"\",\"postTitlePlaceholder\":\"\",\"ipCountryCondition\":{\"exclude\":[],\"include\":[\"HK\"]},\"subcategories\":[],\"topics\":[],\"nsfw\":false,\"mediaThreshold\":{},\"limitCountries\":[],\"limitStage\":0,\"availableLayouts\":[\"classic\"],\"postCount\":{\"last30Days\":1},\"favorite\":false},{\"id\":\"29cf0f9b-f04e-44bb-980d-67baedeb4b56\",\"alias\":\"dcardaddemo\",\"name\":\"廣告 Demo\",\"description\":\"\",\"subscriptionCount\":0,\"subscribed\":false,\"read\":false,\"createdAt\":\"2020-03-09T04:40:44.327Z\",\"updatedAt\":\"2020-03-09T04:40:44.327Z\",\"canPost\":false,\"ignorePost\":true,\"invisible\":true,\"isSchool\":false,\"fullyAnonymous\":false,\"canUseNickname\":true,\"postThumbnail\":{\"size\":\"small\"},\"shouldCategorized\":false,\"shouldPostCategorize\":false,\"titlePlaceholder\":\"\",\"postTitlePlaceholder\":\"\",\"ipCountryCondition\":{},\"subcategories\":[],\"topics\":[],\"nsfw\":false,\"mediaThreshold\":{},\"limitCountries\":[],\"limitStage\":0,\"availableLayouts\":[\"classic\"],\"postCount\":{\"last30Days\":1},\"favorite\":false},{\"id\":\"832896a0-21e3-4bb0-b515-5e1ed7238ed4\",\"alias\":\"beauty\",\"name\":\"表特\",\"description\":\"欣賞美的人事物是人的天性，歡迎於此板分享美女帥哥的情報。進板請務必先閱讀板規。\",\"subscriptionCount\":22981,\"subscribed\":false,\"read\":false,\"createdAt\":\"2020-03-10T03:44:54.104Z\",\"updatedAt\":\"2020-03-23T07:59:30.485Z\",\"canPost\":false,\"ignorePost\":true,\"invisible\":true,\"isSchool\":false,\"fullyAnonymous\":false,\"canUseNickname\":true,\"postThumbnail\":{\"size\":\"small\"},\"shouldCategorized\":false,\"shouldPostCategorize\":false,\"titlePlaceholder\":\"\",\"postTitlePlaceholder\":\"\",\"ipCountryCondition\":{\"exclude\":[],\"include\":[]},\"subcategories\":[],\"topics\":[],\"nsfw\":true,\"mediaThreshold\":{},\"limitCountries\":[],\"limitStage\":0,\"availableLayouts\":[\"classic\",\"image\"],\"heroImage\":{\"url\":\"https://megapx-stage-assets.dcard.io/images/e16bc060-e97b-465c-a4e2-51e8c70263e6/full.jpeg\",\"type\":\"image/jpeg\",\"width\":1800,\"height\":600},\"logo\":{\"url\":\"https://megapx-stage-assets.dcard.io/images/d4f3f6b6-abcd-47a8-a101-c8e839632490/full.jpeg\",\"type\":\"image/jpeg\",\"width\":200,\"height\":200},\"postCount\":{\"last30Days\":359},\"favorite\":false},{\"id\":\"521f686c-a54c-4217-9577-9a4e13f77f49\",\"alias\":\"latenightsnack\",\"name\":\"宵夜文\",\"description\":\"\",\"subscriptionCount\":0,\"subscribed\":false,\"read\":false,\"createdAt\":\"2020-03-24T03:23:09.812Z\",\"updatedAt\":\"2020-03-25T06:08:57.138Z\",\"canPost\":false,\"ignorePost\":true,\"invisible\":true,\"isSchool\":false,\"fullyAnonymous\":false,\"canUseNickname\":true,\"postThumbnail\":{\"size\":\"small\"},\"shouldCategorized\":false,\"shouldPostCategorize\":false,\"titlePlaceholder\":\"\",\"postTitlePlaceholder\":\"\",\"ipCountryCondition\":{\"exclude\":[],\"include\":[]},\"subcategories\":[],\"topics\":[],\"nsfw\":false,\"mediaThreshold\":{},\"limitCountries\":[],\"limitStage\":0,\"availableLayouts\":[\"image\",\"video\"],\"postCount\":{\"last30Days\":0},\"favorite\":false},{\"id\":\"1dcd2a25-2ed8-4353-b594-711d14cf6121\",\"alias\":\"toofunny\",\"name\":\"不能只有我看到\",\"description\":\"\",\"subscriptionCount\":0,\"subscribed\":false,\"read\":false,\"createdAt\":\"2020-03-24T03:23:42.682Z\",\"updatedAt\":\"2020-03-25T06:09:27.954Z\",\"canPost\":false,\"ignorePost\":true,\"invisible\":true,\"isSchool\":false,\"fullyAnonymous\":false,\"canUseNickname\":true,\"postThumbnail\":{\"size\":\"small\"},\"shouldCategorized\":false,\"shouldPostCategorize\":false,\"titlePlaceholder\":\"\",\"postTitlePlaceholder\":\"\",\"ipCountryCondition\":{},\"subcategories\":[],\"topics\":[],\"nsfw\":false,\"mediaThreshold\":{},\"limitCountries\":[],\"limitStage\":0,\"availableLayouts\":[\"image\",\"video\"],\"postCount\":{\"last30Days\":0},\"favorite\":false},{\"id\":\"932897c6-3470-4053-993a-86aa390b9c6b\",\"alias\":\"showdogs\",\"name\":\"曬狗\",\"description\":\"\",\"subscriptionCount\":0,\"subscribed\":false,\"read\":false,\"createdAt\":\"2020-03-24T03:24:26.856Z\",\"updatedAt\":\"2020-03-25T06:09:20.877Z\",\"canPost\":false,\"ignorePost\":true,\"invisible\":true,\"isSchool\":false,\"fullyAnonymous\":false,\"canUseNickname\":true,\"postThumbnail\":{\"size\":\"small\"},\"shouldCategorized\":false,\"shouldPostCategorize\":false,\"titlePlaceholder\":\"\",\"postTitlePlaceholder\":\"\",\"ipCountryCondition\":{},\"subcategories\":[],\"topics\":[],\"nsfw\":false,\"mediaThreshold\":{},\"limitCountries\":[],\"limitStage\":0,\"availableLayouts\":[\"image\",\"video\"],\"postCount\":{\"last30Days\":0},\"favorite\":false},{\"id\":\"cbf56d6a-2fa9-4c63-b646-47b27abf1c02\",\"alias\":\"animal_crossing\",\"name\":\"動物森友會\",\"description\":\"動物森友會板提供卡友們討論攻略、情報分享、無人島生活心得跟詢問集合吧！動物森友會之相關問題！\",\"subscriptionCount\":3636,\"subscribed\":false,\"read\":false,\"createdAt\":\"2020-03-31T03:24:35.412Z\",\"updatedAt\":\"2020-03-31T04:49:55.126Z\",\"canPost\":false,\"ignorePost\":false,\"invisible\":false,\"isSchool\":false,\"fullyAnonymous\":false,\"canUseNickname\":true,\"postThumbnail\":{\"size\":\"small\"},\"shouldCategorized\":false,\"shouldPostCategorize\":false,\"titlePlaceholder\":\"\",\"postTitlePlaceholder\":\"可以討論攻略、情報分享、無人島生活心得跟詢問集合吧！動物森友會之相關問題！\",\"ipCountryCondition\":{\"exclude\":[],\"include\":[]},\"subcategories\":[],\"topics\":[\"動物森友會\",\"島民\",\"switch\",\"任天堂\",\"動森\",\"動物之森\",\"動森主機\"],\"nsfw\":false,\"mediaThreshold\":{},\"limitCountries\":[],\"limitStage\":0,\"availableLayouts\":[\"classic\"],\"heroImage\":{\"url\":\"https://megapx-stage-assets.dcard.io/images/03989744-73e0-4f45-be45-f9c3b4be82de/full.jpeg\",\"type\":\"image/jpeg\",\"width\":1800,\"height\":600},\"logo\":{\"url\":\"https://megapx-stage-assets.dcard.io/images/c59d20e7-0ccc-42fc-8e1e-ed047991756c/full.jpeg\",\"type\":\"image/jpeg\",\"width\":200,\"height\":200},\"postCount\":{\"last30Days\":71},\"favorite\":false},{\"id\":\"9d18b308-26f5-4239-960b-df60f81175c7\",\"alias\":\"hkjob\",\"name\":\"港澳工作板\",\"description\":\"呢度係比香港澳門嘅同學仔討論同港澳有關既工作議題、分享打工資訊嘅討論區，發文留言前請先閱讀板規\",\"subscriptionCount\":0,\"subscribed\":false,\"read\":false,\"createdAt\":\"2020-03-31T05:57:36.148Z\",\"updatedAt\":\"2020-03-31T05:57:36.148Z\",\"canPost\":false,\"ignorePost\":false,\"invisible\":true,\"isSchool\":false,\"fullyAnonymous\":false,\"canUseNickname\":true,\"postThumbnail\":{\"size\":\"small\"},\"shouldCategorized\":false,\"shouldPostCategorize\":false,\"titlePlaceholder\":\"\",\"postTitlePlaceholder\":\"\",\"ipCountryCondition\":{\"include\":[\"HK\",\"MO\"]},\"subcategories\":[],\"topics\":[],\"nsfw\":false,\"mediaThreshold\":{},\"limitCountries\":[],\"limitStage\":0,\"availableLayouts\":[\"classic\"],\"postCount\":{\"last30Days\":0},\"favorite\":false}]\n </body>\n</html>\n"
    }
   ],
   "source": [
    "'''\n",
    "Your Code\n",
    "'''\n",
    "from bs4 import BeautifulSoup\n",
    "import requests\n",
    "resp = requests.get('https://www.dcard.tw/_api/forums')\n",
    "soup = BeautifulSoup(resp.text, 'html5lib')\n",
    "\n",
    "print(soup.prettify())"
   ]
  },
  {
   "cell_type": "code",
   "execution_count": 6,
   "metadata": {},
   "outputs": [
    {
     "output_type": "execute_result",
     "data": {
      "text/plain": "123145465208832"
     },
     "metadata": {},
     "execution_count": 6
    }
   ],
   "source": [
    "import _thread\n",
    "import time\n",
    "\n",
    "def print_time( threadName, data, delay):\n",
    "    for d in data:\n",
    "        time.sleep(delay)\n",
    "        print(threadName, ' => ', d)\n",
    "\n",
    "_thread.start_new_thread( print_time, (\"Thread-1\", range(0, 5, 2), 2, ) )\n",
    "_thread.start_new_thread( print_time, (\"Thread-2\", range(1, 5, 2), 5, ) )\n",
    ""
   ]
  },
  {
   "cell_type": "code",
   "execution_count": 7,
   "metadata": {},
   "outputs": [
    {
     "output_type": "stream",
     "name": "stdout",
     "text": "1.0330560207366943\n"
    }
   ],
   "source": [
    "import requests\n",
    "import time\n",
    "\n",
    "urls = ['https://www.dcard.tw/_api/forums/midnightlab/posts', 'https://www.dcard.tw/_api/forums/hkjob/posts', 'https://www.dcard.tw/_api/forums/animal_crossing/posts',\n",
    "        'https://www.dcard.tw/_api/forums/showdogs/posts', 'https://www.dcard.tw/_api/forums/toofunny/posts']\n",
    "\n",
    "startTime = time.time()\n",
    "\n",
    "for url in urls:\n",
    "    requests.get(url)\n",
    "\n",
    "finishTime = time.time()\n",
    "print(finishTime - startTime) # 正常情況的爬蟲所需時間"
   ]
  },
  {
   "cell_type": "code",
   "execution_count": 9,
   "metadata": {},
   "outputs": [
    {
     "output_type": "stream",
     "name": "stdout",
     "text": "0.00013399124145507812\n"
    }
   ],
   "source": [
    "import requests\n",
    "import _thread\n",
    "import time\n",
    "\n",
    "urls = ['https://www.dcard.tw/_api/forums/midnightlab/posts', 'https://www.dcard.tw/_api/forums/hkjob/posts', 'https://www.dcard.tw/_api/forums/animal_crossing/posts',\n",
    "        'https://www.dcard.tw/_api/forums/showdogs/posts', 'https://www.dcard.tw/_api/forums/toofunny/posts']\n",
    "\n",
    "startTime = time.time()\n",
    "\n",
    "for url in urls:\n",
    "    _thread.start_new_thread( requests.get, (url, ) )\n",
    "\n",
    "finishTime = time.time()\n",
    "print(finishTime - startTime) # 利用 thread 的爬蟲所需時間"
   ]
  },
  {
   "cell_type": "code",
   "execution_count": null,
   "metadata": {},
   "outputs": [],
   "source": []
  }
 ],
 "metadata": {
  "colab": {
   "name": "homework.ipynb",
   "provenance": []
  },
  "kernelspec": {
   "display_name": "Python 3",
   "language": "python",
   "name": "python3"
  },
  "language_info": {
   "codemirror_mode": {
    "name": "ipython",
    "version": 3
   },
   "file_extension": ".py",
   "mimetype": "text/x-python",
   "name": "python",
   "nbconvert_exporter": "python",
   "pygments_lexer": "ipython3",
   "version": "3.7.3-final"
  }
 },
 "nbformat": 4,
 "nbformat_minor": 1
}
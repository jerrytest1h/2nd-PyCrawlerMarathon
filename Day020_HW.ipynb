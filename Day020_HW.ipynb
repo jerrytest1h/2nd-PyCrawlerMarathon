{
 "cells": [
  {
   "cell_type": "markdown",
   "metadata": {},
   "source": [
    "# 動態網頁爬蟲 - API Request\n",
    "\n",
    "* 了解 API Request 用於動態網頁爬蟲的原理\n",
    "* 能夠使用 API Request 撰寫動態網頁爬蟲\n",
    "\n",
    "\n",
    "\n",
    "\n"
   ]
  },
  {
   "cell_type": "markdown",
   "metadata": {},
   "source": [
    "## 作業目標\n",
    "\n",
    "\n",
    "* 根據範例使用 API 取出 高雄市小港區 2019 年 空氣品質 資料，並用一個適合的資料結構儲存\n",
    "* Hint: 將所有資料存在一個變數當中\n"
   ]
  },
  {
   "cell_type": "code",
   "execution_count": 5,
   "metadata": {},
   "outputs": [
    {
     "data": {
      "text/plain": "200"
     },
     "execution_count": 5,
     "metadata": {},
     "output_type": "execute_result"
    }
   ],
   "source": [
    "import requests\n",
    "url = 'https://taqm.epa.gov.tw/taqm/tw/MonthlyAverage.aspx'\n",
    "payload = {\n",
    "    'ScriptManager1': 'ctl05$UpdatePanel1|ctl05$btnQuery',\n",
    "    '__VIEWSTATE': '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',\n",
    "    '__VIEWSTATEGENERATOR': '0C858E1A',\n",
    "    '__EVENTVALIDATION': '4VlFl4po9gWgabisGKuMCMFj7NrgSS97WauGeqnVLahbFuF1vdC39CYbp4y7yWT2wABItp/BB1Ciep7FpG7ORpzM6MGfy1NDzl+8ibjQPsLg9aaAiqdywWXKMTlWufXl2CCM4O576m1T/N5WaU9m3c5zfpU846Kaj4L1tp1QnamxwjU3bNS6FwEGo3LiR9caGJ918VexMBJi9h0kofQcbobr62Furi2fYa0rSghBkIR5jI8CKWXjqPy1X+AWTYwo4v03t8GVTpIFAicBxTfh4y8f/h6ofEs+YNLmMYaXMuSmFc3ZHcKejvJxremLM8IpDxl74lUGhJTMT9vw9ice0M3iCqcB88y1djj5IySbysS+T0E+xM5zyRw8rdIVAyTwC6Bi79ZZ6XK82Jw1nVUYAlr34n4fHHkKvASlmLyw0+jsGYDXgvV3wzqZxjGbqaaX78YdGTir4DkiABa0Bt3F7tMyLRD6gk/nvGx6Kqe2Mi3/zr1wZRioE7at+8OrWnvK+pO3/WBiiObdil8bO4XpMnr3pdzf1ydwCPe7K0BllIa+jvA/Q7UKB3PsaXhJwzJ+tTHBqLHV0lwZns4CHBXo22KztwYDiVbpoKs1BMZhedz7pnlDRgOeOm7LA150QOSBlisB7GDY+TtRgw4BrLv20lz9RtH/k/7hd3rvuK3LbnU8AQu7GneXbkq2B+pbZtyKMwUD1+h6UQsI45FByxh80iqGxkGi1OKl0Uv8sEFzE94QIgziyzZ5FHP0qOnlg6WW+aj1g1Xh2f82YWQjHCmHlDEBaVU01+JPuwbvCZL+O9CK70tihFuQJOhy9H0q4tR8xjTzMydsYJ3GzMol5kVs0JHJDew7Lc8SHEcHTaB6rIx9TFfGGX5PcwStVEWh0EwDTzGLF1CchJkYblNQ+kroJTIQMuG14o8gCLWdZO8XCEqEFXEOSmMnmr2DRli0UZPRnpP0gUYQMRe/ubqNipEhNABSTMQ=',\n",
    "    'ctl05$ddlSite': 58,\n",
    "    'ctl05$ddlYear': 2019, \n",
    "    'ctl05$btnQuery': '查詢'\n",
    "}\n",
    "r = requests.post(url, data=payload)\n",
    "r.status_code"
   ]
  },
  {
   "cell_type": "markdown",
   "metadata": {},
   "source": [
    "![](https://imgur.com/obLkbFe.jpg)"
   ]
  },
  {
   "cell_type": "code",
   "execution_count": 7,
   "metadata": {},
   "outputs": [
    {
     "name": "stdout",
     "output_type": "stream",
     "text": "<table align=\"Center\" border=\"1\" cellpadding=\"3\" cellspacing=\"0\" class=\"TABLE_G\" id=\"ctl05_gv\" rules=\"all\" style=\"border-color:Black;border-width:1px;border-style:None;border-collapse:collapse;\">\n<tr style=\"color:Black;font-weight:normal;\">\n<th scope=\"col\">監測項目</th><th scope=\"col\">單位</th><th scope=\"col\">監測日期</th><th scope=\"col\">監測值</th><th scope=\"col\">標註</th>\n</tr><tr style=\"color:Black;\">\n<td class=\"no-alt\" rowspan=\"12\" style=\"white-space:nowrap;\" valign=\"top\">SO2</td><td class=\"no-alt\" rowspan=\"12\" valign=\"top\">ppb</td><td>2019/01</td><td>4.10</td><td> </td>\n</tr><tr class=\"ALT\" style=\"color:Black;\">\n<td>2019/02</td><td>3.30</td><td> </td>\n</tr><tr style=\"color:Black;\">\n<td>2019/03</td><td>3.90</td><td> </td>\n</tr><tr class=\"ALT\" style=\"color:Black;\">\n<td>2019/04</td><td>3.40</td><td> </td>\n</tr><tr style=\"color:Black;\">\n<td>2019/05</td><td>3.30</td><td> </td>\n</tr><tr class=\"ALT\" style=\"color:Black;\">\n<td>2019/06</td><td>4.10</td><td> </td>\n</tr><tr style=\"color:Black;\">\n<td>2019/07</td><td>4</td><td> </td>\n</tr><tr class=\"ALT\" style=\"color:Black;\">\n<td>2019/08</td><td>4.60</td><td> </td>\n</tr><tr style=\"color:Black;\">\n<td>2019/09</td><td>3.50</td><td> </td>\n</tr><tr class=\"ALT\" style=\"color:Black;\">\n<td>2019/10</td><td>3.20</td><td> </td>\n</tr><tr style=\"color:Black;\">\n<td>2019/11</td><td>3.60</td><td> </td>\n</tr><tr class=\"ALT\" style=\"color:Black;\">\n<td>2019/12</td><td>3</td><td> </td>\n</tr><tr style=\"color:Black;\">\n<td class=\"no-alt\" rowspan=\"12\" style=\"white-space:nowrap;\" valign=\"top\">CO</td><td class=\"no-alt\" rowspan=\"12\" valign=\"top\">ppm</td><td>2019/01</td><td>0.67</td><td> </td>\n</tr><tr class=\"ALT\" style=\"color:Black;\">\n<td>2019/02</td><td>0.48</td><td> </td>\n</tr><tr style=\"color:Black;\">\n<td>2019/03</td><td>0.50</td><td> </td>\n</tr><tr class=\"ALT\" style=\"color:Black;\">\n<td>2019/04</td><td>0.39</td><td> </td>\n</tr><tr style=\"color:Black;\">\n<td>2019/05</td><td>0.38</td><td> </td>\n</tr><tr class=\"ALT\" style=\"color:Black;\">\n<td>2019/06</td><td>0.24</td><td> </td>\n</tr><tr style=\"color:Black;\">\n<td>2019/07</td><td>0.28</td><td> </td>\n</tr><tr class=\"ALT\" style=\"color:Black;\">\n<td>2019/08</td><td>0.33</td><td> </td>\n</tr><tr style=\"color:Black;\">\n<td>2019/09</td><td>0.32</td><td> </td>\n</tr><tr class=\"ALT\" style=\"color:Black;\">\n<td>2019/10</td><td>0.36</td><td> </td>\n</tr><tr style=\"color:Black;\">\n<td>2019/11</td><td>0.46</td><td> </td>\n</tr><tr class=\"ALT\" style=\"color:Black;\">\n<td>2019/12</td><td>0.54</td><td> </td>\n</tr><tr style=\"color:Black;\">\n<td class=\"no-alt\" rowspan=\"12\" style=\"white-space:nowrap;\" valign=\"top\">O3</td><td class=\"no-alt\" rowspan=\"12\" valign=\"top\">ppb</td><td>2019/01</td><td>24.70</td><td> </td>\n</tr><tr class=\"ALT\" style=\"color:Black;\">\n<td>2019/02</td><td>29.40</td><td> </td>\n</tr><tr style=\"color:Black;\">\n<td>2019/03</td><td>29.20</td><td> </td>\n</tr><tr class=\"ALT\" style=\"color:Black;\">\n<td>2019/04</td><td>30.40</td><td> </td>\n</tr><tr style=\"color:Black;\">\n<td>2019/05</td><td>28.60</td><td> </td>\n</tr><tr class=\"ALT\" style=\"color:Black;\">\n<td>2019/06</td><td>16.30</td><td> </td>\n</tr><tr style=\"color:Black;\">\n<td>2019/07</td><td>15.50</td><td> </td>\n</tr><tr class=\"ALT\" style=\"color:Black;\">\n<td>2019/08</td><td>19.70</td><td> </td>\n</tr><tr style=\"color:Black;\">\n<td>2019/09</td><td>35.70</td><td> </td>\n</tr><tr class=\"ALT\" style=\"color:Black;\">\n<td>2019/10</td><td>44</td><td> </td>\n</tr><tr style=\"color:Black;\">\n<td>2019/11</td><td>34.80</td><td> </td>\n</tr><tr class=\"ALT\" style=\"color:Black;\">\n<td>2019/12</td><td>22.30</td><td> </td>\n</tr><tr style=\"color:Black;\">\n<td class=\"no-alt\" rowspan=\"12\" style=\"white-space:nowrap;\" valign=\"top\">PM10</td><td class=\"no-alt\" rowspan=\"12\" valign=\"top\">μg/m3</td><td>2019/01</td><td>78</td><td> </td>\n</tr><tr class=\"ALT\" style=\"color:Black;\">\n<td>2019/02</td><td>57</td><td> </td>\n</tr><tr style=\"color:Black;\">\n<td>2019/03</td><td>52</td><td> </td>\n</tr><tr class=\"ALT\" style=\"color:Black;\">\n<td>2019/04</td><td>42</td><td> </td>\n</tr><tr style=\"color:Black;\">\n<td>2019/05</td><td>35</td><td> </td>\n</tr><tr class=\"ALT\" style=\"color:Black;\">\n<td>2019/06</td><td>20</td><td> </td>\n</tr><tr style=\"color:Black;\">\n<td>2019/07</td><td>24</td><td> </td>\n</tr><tr class=\"ALT\" style=\"color:Black;\">\n<td>2019/08</td><td>27</td><td> </td>\n</tr><tr style=\"color:Black;\">\n<td>2019/09</td><td>35</td><td> </td>\n</tr><tr class=\"ALT\" style=\"color:Black;\">\n<td>2019/10</td><td>50</td><td> </td>\n</tr><tr style=\"color:Black;\">\n<td>2019/11</td><td>63</td><td> </td>\n</tr><tr class=\"ALT\" style=\"color:Black;\">\n<td>2019/12</td><td>54</td><td> </td>\n</tr><tr style=\"color:Black;\">\n<td class=\"no-alt\" rowspan=\"12\" style=\"white-space:nowrap;\" valign=\"top\">NOx</td><td class=\"no-alt\" rowspan=\"12\" valign=\"top\">ppb</td><td>2019/01</td><td>38.01</td><td> </td>\n</tr><tr class=\"ALT\" style=\"color:Black;\">\n<td>2019/02</td><td>25.62</td><td> </td>\n</tr><tr style=\"color:Black;\">\n<td>2019/03</td><td>27.84</td><td> </td>\n</tr><tr class=\"ALT\" style=\"color:Black;\">\n<td>2019/04</td><td>21.83</td><td> </td>\n</tr><tr style=\"color:Black;\">\n<td>2019/05</td><td>22.55</td><td> </td>\n</tr><tr class=\"ALT\" style=\"color:Black;\">\n<td>2019/06</td><td>17.15</td><td> </td>\n</tr><tr style=\"color:Black;\">\n<td>2019/07</td><td>17.71</td><td> </td>\n</tr><tr class=\"ALT\" style=\"color:Black;\">\n<td>2019/08</td><td>19.66</td><td> </td>\n</tr><tr style=\"color:Black;\">\n<td>2019/09</td><td>18.66</td><td> </td>\n</tr><tr class=\"ALT\" style=\"color:Black;\">\n<td>2019/10</td><td>19.50</td><td> </td>\n</tr><tr style=\"color:Black;\">\n<td>2019/11</td><td>28.99</td><td> </td>\n</tr><tr class=\"ALT\" style=\"color:Black;\">\n<td>2019/12</td><td>33.84</td><td> </td>\n</tr><tr style=\"color:Black;\">\n<td class=\"no-alt\" rowspan=\"12\" style=\"white-space:nowrap;\" valign=\"top\">NO</td><td class=\"no-alt\" rowspan=\"12\" valign=\"top\">ppb</td><td>2019/01</td><td>7.95</td><td> </td>\n</tr><tr class=\"ALT\" style=\"color:Black;\">\n<td>2019/02</td><td>4.76</td><td> </td>\n</tr><tr style=\"color:Black;\">\n<td>2019/03</td><td>5.41</td><td> </td>\n</tr><tr class=\"ALT\" style=\"color:Black;\">\n<td>2019/04</td><td>4.16</td><td> </td>\n</tr><tr style=\"color:Black;\">\n<td>2019/05</td><td>4.58</td><td> </td>\n</tr><tr class=\"ALT\" style=\"color:Black;\">\n<td>2019/06</td><td>5.08</td><td> </td>\n</tr><tr style=\"color:Black;\">\n<td>2019/07</td><td>5.16</td><td> </td>\n</tr><tr class=\"ALT\" style=\"color:Black;\">\n<td>2019/08</td><td>5.17</td><td> </td>\n</tr><tr style=\"color:Black;\">\n<td>2019/09</td><td>3.63</td><td> </td>\n</tr><tr class=\"ALT\" style=\"color:Black;\">\n<td>2019/10</td><td>3.50</td><td> </td>\n</tr><tr style=\"color:Black;\">\n<td>2019/11</td><td>5.21</td><td> </td>\n</tr><tr class=\"ALT\" style=\"color:Black;\">\n<td>2019/12</td><td>7.83</td><td> </td>\n</tr><tr style=\"color:Black;\">\n<td class=\"no-alt\" rowspan=\"12\" style=\"white-space:nowrap;\" valign=\"top\">NO2</td><td class=\"no-alt\" rowspan=\"12\" valign=\"top\">ppb</td><td>2019/01</td><td>30.06</td><td> </td>\n</tr><tr class=\"ALT\" style=\"color:Black;\">\n<td>2019/02</td><td>20.86</td><td> </td>\n</tr><tr style=\"color:Black;\">\n<td>2019/03</td><td>22.43</td><td> </td>\n</tr><tr class=\"ALT\" style=\"color:Black;\">\n<td>2019/04</td><td>17.68</td><td> </td>\n</tr><tr style=\"color:Black;\">\n<td>2019/05</td><td>17.98</td><td> </td>\n</tr><tr class=\"ALT\" style=\"color:Black;\">\n<td>2019/06</td><td>12.08</td><td> </td>\n</tr><tr style=\"color:Black;\">\n<td>2019/07</td><td>12.54</td><td> </td>\n</tr><tr class=\"ALT\" style=\"color:Black;\">\n<td>2019/08</td><td>14.49</td><td> </td>\n</tr><tr style=\"color:Black;\">\n<td>2019/09</td><td>15.03</td><td> </td>\n</tr><tr class=\"ALT\" style=\"color:Black;\">\n<td>2019/10</td><td>15.99</td><td> </td>\n</tr><tr style=\"color:Black;\">\n<td>2019/11</td><td>23.78</td><td> </td>\n</tr><tr class=\"ALT\" style=\"color:Black;\">\n<td>2019/12</td><td>26</td><td> </td>\n</tr><tr style=\"color:Black;\">\n<td class=\"no-alt\" rowspan=\"12\" style=\"white-space:nowrap;\" valign=\"top\">THC</td><td class=\"no-alt\" rowspan=\"12\" valign=\"top\">ppm</td><td>2019/01</td><td>2.27</td><td> </td>\n</tr><tr class=\"ALT\" style=\"color:Black;\">\n<td>2019/02</td><td>2.11</td><td> </td>\n</tr><tr style=\"color:Black;\">\n<td>2019/03</td><td>2.12</td><td> </td>\n</tr><tr class=\"ALT\" style=\"color:Black;\">\n<td>2019/04</td><td>2.02</td><td> </td>\n</tr><tr style=\"color:Black;\">\n<td>2019/05</td><td>2.02</td><td> </td>\n</tr><tr class=\"ALT\" style=\"color:Black;\">\n<td>2019/06</td><td>1.92</td><td> </td>\n</tr><tr style=\"color:Black;\">\n<td>2019/07</td><td>1.93</td><td> </td>\n</tr><tr class=\"ALT\" style=\"color:Black;\">\n<td>2019/08</td><td>1.97</td><td> </td>\n</tr><tr style=\"color:Black;\">\n<td>2019/09</td><td>1.98</td><td> </td>\n</tr><tr class=\"ALT\" style=\"color:Black;\">\n<td>2019/10</td><td>2.05</td><td> </td>\n</tr><tr style=\"color:Black;\">\n<td>2019/11</td><td>2.15</td><td> </td>\n</tr><tr class=\"ALT\" style=\"color:Black;\">\n<td>2019/12</td><td>2.18</td><td> </td>\n</tr><tr style=\"color:Black;\">\n<td class=\"no-alt\" rowspan=\"12\" style=\"white-space:nowrap;\" valign=\"top\">NMHC</td><td class=\"no-alt\" rowspan=\"12\" valign=\"top\">ppm</td><td>2019/01</td><td>0.27</td><td> </td>\n</tr><tr class=\"ALT\" style=\"color:Black;\">\n<td>2019/02</td><td>0.17</td><td> </td>\n</tr><tr style=\"color:Black;\">\n<td>2019/03</td><td>0.18</td><td> </td>\n</tr><tr class=\"ALT\" style=\"color:Black;\">\n<td>2019/04</td><td>0.14</td><td> </td>\n</tr><tr style=\"color:Black;\">\n<td>2019/05</td><td>0.16</td><td> </td>\n</tr><tr class=\"ALT\" style=\"color:Black;\">\n<td>2019/06</td><td>0.13</td><td> </td>\n</tr><tr style=\"color:Black;\">\n<td>2019/07</td><td>0.14</td><td> </td>\n</tr><tr class=\"ALT\" style=\"color:Black;\">\n<td>2019/08</td><td>0.15</td><td> </td>\n</tr><tr style=\"color:Black;\">\n<td>2019/09</td><td>0.13</td><td> </td>\n</tr><tr class=\"ALT\" style=\"color:Black;\">\n<td>2019/10</td><td>0.13</td><td> </td>\n</tr><tr style=\"color:Black;\">\n<td>2019/11</td><td>0.21</td><td> </td>\n</tr><tr class=\"ALT\" style=\"color:Black;\">\n<td>2019/12</td><td>0.23</td><td> </td>\n</tr><tr style=\"color:Black;\">\n<td class=\"no-alt\" rowspan=\"12\" style=\"white-space:nowrap;\" valign=\"top\">CH4</td><td class=\"no-alt\" rowspan=\"12\" valign=\"top\">ppm</td><td>2019/01</td><td>2</td><td> </td>\n</tr><tr class=\"ALT\" style=\"color:Black;\">\n<td>2019/02</td><td>1.94</td><td> </td>\n</tr><tr style=\"color:Black;\">\n<td>2019/03</td><td>1.94</td><td> </td>\n</tr><tr class=\"ALT\" style=\"color:Black;\">\n<td>2019/04</td><td>1.88</td><td> </td>\n</tr><tr style=\"color:Black;\">\n<td>2019/05</td><td>1.86</td><td> </td>\n</tr><tr class=\"ALT\" style=\"color:Black;\">\n<td>2019/06</td><td>1.79</td><td> </td>\n</tr><tr style=\"color:Black;\">\n<td>2019/07</td><td>1.80</td><td> </td>\n</tr><tr class=\"ALT\" style=\"color:Black;\">\n<td>2019/08</td><td>1.82</td><td> </td>\n</tr><tr style=\"color:Black;\">\n<td>2019/09</td><td>1.86</td><td> </td>\n</tr><tr class=\"ALT\" style=\"color:Black;\">\n<td>2019/10</td><td>1.92</td><td> </td>\n</tr><tr style=\"color:Black;\">\n<td>2019/11</td><td>1.94</td><td> </td>\n</tr><tr class=\"ALT\" style=\"color:Black;\">\n<td>2019/12</td><td>1.95</td><td> </td>\n</tr>\n</table>\n"
    }
   ],
   "source": [
    "from bs4 import BeautifulSoup\n",
    "\n",
    "soup = BeautifulSoup(r.text, 'html.parser')\n",
    "table = soup.find('table', class_='TABLE_G')\n",
    "print(table)"
   ]
  },
  {
   "cell_type": "code",
   "execution_count": 8,
   "metadata": {},
   "outputs": [
    {
     "name": "stdout",
     "output_type": "stream",
     "text": "{'SO2': {'2019/01': '4.10', '2019/02': '3.30', '2019/03': '3.90', '2019/04': '3.40', '2019/05': '3.30', '2019/06': '4.10', '2019/07': '4', '2019/08': '4.60', '2019/09': '3.50', '2019/10': '3.20', '2019/11': '3.60', '2019/12': '3'}, 'CO': {'2019/01': '0.67', '2019/02': '0.48', '2019/03': '0.50', '2019/04': '0.39', '2019/05': '0.38', '2019/06': '0.24', '2019/07': '0.28', '2019/08': '0.33', '2019/09': '0.32', '2019/10': '0.36', '2019/11': '0.46', '2019/12': '0.54'}, 'O3': {'2019/01': '24.70', '2019/02': '29.40', '2019/03': '29.20', '2019/04': '30.40', '2019/05': '28.60', '2019/06': '16.30', '2019/07': '15.50', '2019/08': '19.70', '2019/09': '35.70', '2019/10': '44', '2019/11': '34.80', '2019/12': '22.30'}, 'PM10': {'2019/01': '78', '2019/02': '57', '2019/03': '52', '2019/04': '42', '2019/05': '35', '2019/06': '20', '2019/07': '24', '2019/08': '27', '2019/09': '35', '2019/10': '50', '2019/11': '63', '2019/12': '54'}, 'NOx': {'2019/01': '38.01', '2019/02': '25.62', '2019/03': '27.84', '2019/04': '21.83', '2019/05': '22.55', '2019/06': '17.15', '2019/07': '17.71', '2019/08': '19.66', '2019/09': '18.66', '2019/10': '19.50', '2019/11': '28.99', '2019/12': '33.84'}, 'NO': {'2019/01': '7.95', '2019/02': '4.76', '2019/03': '5.41', '2019/04': '4.16', '2019/05': '4.58', '2019/06': '5.08', '2019/07': '5.16', '2019/08': '5.17', '2019/09': '3.63', '2019/10': '3.50', '2019/11': '5.21', '2019/12': '7.83'}, 'NO2': {'2019/01': '30.06', '2019/02': '20.86', '2019/03': '22.43', '2019/04': '17.68', '2019/05': '17.98', '2019/06': '12.08', '2019/07': '12.54', '2019/08': '14.49', '2019/09': '15.03', '2019/10': '15.99', '2019/11': '23.78', '2019/12': '26'}, 'THC': {'2019/01': '2.27', '2019/02': '2.11', '2019/03': '2.12', '2019/04': '2.02', '2019/05': '2.02', '2019/06': '1.92', '2019/07': '1.93', '2019/08': '1.97', '2019/09': '1.98', '2019/10': '2.05', '2019/11': '2.15', '2019/12': '2.18'}, 'NMHC': {'2019/01': '0.27', '2019/02': '0.17', '2019/03': '0.18', '2019/04': '0.14', '2019/05': '0.16', '2019/06': '0.13', '2019/07': '0.14', '2019/08': '0.15', '2019/09': '0.13', '2019/10': '0.13', '2019/11': '0.21', '2019/12': '0.23'}, 'CH4': {'2019/01': '2', '2019/02': '1.94', '2019/03': '1.94', '2019/04': '1.88', '2019/05': '1.86', '2019/06': '1.79', '2019/07': '1.80', '2019/08': '1.82', '2019/09': '1.86', '2019/10': '1.92', '2019/11': '1.94', '2019/12': '1.95'}}\n"
    }
   ],
   "source": [
    "'''\n",
    "Your Code\n",
    "'''\n",
    "trs = table.findAll('tr')\n",
    "d = {}\n",
    "tag = \"\"\n",
    "for (i, tr) in enumerate(table.findAll('tr')): \n",
    "    tds = tr.findAll('td')\n",
    "    if ( (len(tds)) == 5 ):\n",
    "        tag = tds[0].text\n",
    "        d[tag] = {}\n",
    "        d[tag][tds[2].text] = tds[3].text\n",
    "    elif ((len(tds)) > 0 ): \n",
    "        d[tag][tds[0].text] = tds[1].text\n",
    " \n",
    "print(d) "
   ]
  },
  {
   "cell_type": "code",
   "execution_count": 9,
   "metadata": {},
   "outputs": [
    {
     "data": {
      "text/html": "<div>\n<style scoped>\n    .dataframe tbody tr th:only-of-type {\n        vertical-align: middle;\n    }\n\n    .dataframe tbody tr th {\n        vertical-align: top;\n    }\n\n    .dataframe thead th {\n        text-align: right;\n    }\n</style>\n<table border=\"1\" class=\"dataframe\">\n  <thead>\n    <tr style=\"text-align: right;\">\n      <th></th>\n      <th>SO2</th>\n      <th>CO</th>\n      <th>O3</th>\n      <th>PM10</th>\n      <th>NOx</th>\n      <th>NO</th>\n      <th>NO2</th>\n      <th>THC</th>\n      <th>NMHC</th>\n      <th>CH4</th>\n    </tr>\n  </thead>\n  <tbody>\n    <tr>\n      <th>2019/01</th>\n      <td>4.10</td>\n      <td>0.67</td>\n      <td>24.70</td>\n      <td>78</td>\n      <td>38.01</td>\n      <td>7.95</td>\n      <td>30.06</td>\n      <td>2.27</td>\n      <td>0.27</td>\n      <td>2</td>\n    </tr>\n    <tr>\n      <th>2019/02</th>\n      <td>3.30</td>\n      <td>0.48</td>\n      <td>29.40</td>\n      <td>57</td>\n      <td>25.62</td>\n      <td>4.76</td>\n      <td>20.86</td>\n      <td>2.11</td>\n      <td>0.17</td>\n      <td>1.94</td>\n    </tr>\n    <tr>\n      <th>2019/03</th>\n      <td>3.90</td>\n      <td>0.50</td>\n      <td>29.20</td>\n      <td>52</td>\n      <td>27.84</td>\n      <td>5.41</td>\n      <td>22.43</td>\n      <td>2.12</td>\n      <td>0.18</td>\n      <td>1.94</td>\n    </tr>\n    <tr>\n      <th>2019/04</th>\n      <td>3.40</td>\n      <td>0.39</td>\n      <td>30.40</td>\n      <td>42</td>\n      <td>21.83</td>\n      <td>4.16</td>\n      <td>17.68</td>\n      <td>2.02</td>\n      <td>0.14</td>\n      <td>1.88</td>\n    </tr>\n    <tr>\n      <th>2019/05</th>\n      <td>3.30</td>\n      <td>0.38</td>\n      <td>28.60</td>\n      <td>35</td>\n      <td>22.55</td>\n      <td>4.58</td>\n      <td>17.98</td>\n      <td>2.02</td>\n      <td>0.16</td>\n      <td>1.86</td>\n    </tr>\n    <tr>\n      <th>2019/06</th>\n      <td>4.10</td>\n      <td>0.24</td>\n      <td>16.30</td>\n      <td>20</td>\n      <td>17.15</td>\n      <td>5.08</td>\n      <td>12.08</td>\n      <td>1.92</td>\n      <td>0.13</td>\n      <td>1.79</td>\n    </tr>\n    <tr>\n      <th>2019/07</th>\n      <td>4</td>\n      <td>0.28</td>\n      <td>15.50</td>\n      <td>24</td>\n      <td>17.71</td>\n      <td>5.16</td>\n      <td>12.54</td>\n      <td>1.93</td>\n      <td>0.14</td>\n      <td>1.80</td>\n    </tr>\n    <tr>\n      <th>2019/08</th>\n      <td>4.60</td>\n      <td>0.33</td>\n      <td>19.70</td>\n      <td>27</td>\n      <td>19.66</td>\n      <td>5.17</td>\n      <td>14.49</td>\n      <td>1.97</td>\n      <td>0.15</td>\n      <td>1.82</td>\n    </tr>\n    <tr>\n      <th>2019/09</th>\n      <td>3.50</td>\n      <td>0.32</td>\n      <td>35.70</td>\n      <td>35</td>\n      <td>18.66</td>\n      <td>3.63</td>\n      <td>15.03</td>\n      <td>1.98</td>\n      <td>0.13</td>\n      <td>1.86</td>\n    </tr>\n    <tr>\n      <th>2019/10</th>\n      <td>3.20</td>\n      <td>0.36</td>\n      <td>44</td>\n      <td>50</td>\n      <td>19.50</td>\n      <td>3.50</td>\n      <td>15.99</td>\n      <td>2.05</td>\n      <td>0.13</td>\n      <td>1.92</td>\n    </tr>\n    <tr>\n      <th>2019/11</th>\n      <td>3.60</td>\n      <td>0.46</td>\n      <td>34.80</td>\n      <td>63</td>\n      <td>28.99</td>\n      <td>5.21</td>\n      <td>23.78</td>\n      <td>2.15</td>\n      <td>0.21</td>\n      <td>1.94</td>\n    </tr>\n    <tr>\n      <th>2019/12</th>\n      <td>3</td>\n      <td>0.54</td>\n      <td>22.30</td>\n      <td>54</td>\n      <td>33.84</td>\n      <td>7.83</td>\n      <td>26</td>\n      <td>2.18</td>\n      <td>0.23</td>\n      <td>1.95</td>\n    </tr>\n  </tbody>\n</table>\n</div>",
      "text/plain": "          SO2    CO     O3 PM10    NOx    NO    NO2   THC  NMHC   CH4\n2019/01  4.10  0.67  24.70   78  38.01  7.95  30.06  2.27  0.27     2\n2019/02  3.30  0.48  29.40   57  25.62  4.76  20.86  2.11  0.17  1.94\n2019/03  3.90  0.50  29.20   52  27.84  5.41  22.43  2.12  0.18  1.94\n2019/04  3.40  0.39  30.40   42  21.83  4.16  17.68  2.02  0.14  1.88\n2019/05  3.30  0.38  28.60   35  22.55  4.58  17.98  2.02  0.16  1.86\n2019/06  4.10  0.24  16.30   20  17.15  5.08  12.08  1.92  0.13  1.79\n2019/07     4  0.28  15.50   24  17.71  5.16  12.54  1.93  0.14  1.80\n2019/08  4.60  0.33  19.70   27  19.66  5.17  14.49  1.97  0.15  1.82\n2019/09  3.50  0.32  35.70   35  18.66  3.63  15.03  1.98  0.13  1.86\n2019/10  3.20  0.36     44   50  19.50  3.50  15.99  2.05  0.13  1.92\n2019/11  3.60  0.46  34.80   63  28.99  5.21  23.78  2.15  0.21  1.94\n2019/12     3  0.54  22.30   54  33.84  7.83     26  2.18  0.23  1.95"
     },
     "execution_count": 9,
     "metadata": {},
     "output_type": "execute_result"
    }
   ],
   "source": [
    "import pandas as pd\n",
    "pd.DataFrame(d)"
   ]
  },
  {
   "cell_type": "code",
   "execution_count": null,
   "metadata": {},
   "outputs": [],
   "source": []
  },
  {
   "cell_type": "code",
   "execution_count": null,
   "metadata": {},
   "outputs": [],
   "source": []
  }
 ],
 "metadata": {
  "kernelspec": {
   "display_name": "Python 3",
   "language": "python",
   "name": "python3"
  },
  "language_info": {
   "codemirror_mode": {
    "name": "ipython",
    "version": 3
   },
   "file_extension": ".py",
   "mimetype": "text/x-python",
   "name": "python",
   "nbconvert_exporter": "python",
   "pygments_lexer": "ipython3",
   "version": "3.7.3-final"
  }
 },
 "nbformat": 4,
 "nbformat_minor": 2
}
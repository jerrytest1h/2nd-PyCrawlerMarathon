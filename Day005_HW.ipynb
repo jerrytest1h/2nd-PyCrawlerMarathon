{
 "cells": [
  {
   "cell_type": "markdown",
   "metadata": {},
   "source": [
    "# API 資料串接 - 以 Dcard API 實作範例\n",
    "\n",
    "* 了解 Dcard API 使用方式與回傳內容\n",
    "* 撰寫程式存取 API 且解析 JSON 格式資料\n"
   ]
  },
  {
   "cell_type": "markdown",
   "metadata": {},
   "source": [
    "## 作業目標\n",
    "\n",
    "* 請利用 API: https://www.dcard.tw/_api/forums/pet/posts?popular=true 回答下列問題：\n",
    "\n",
    "1. 這個 API 一次會回傳幾筆資料？每一筆資料包含哪些欄位？\n",
    "2. 取出每一筆資料的「標題」、「貼文時間」、「留言人數」、「按讚人數」\n",
    "3. 計算熱門/非熱門文章的「平均留言人數」與「平均按讚人數」"
   ]
  },
  {
   "cell_type": "code",
   "execution_count": 22,
   "metadata": {},
   "outputs": [
    {
     "name": "stdout",
     "output_type": "stream",
     "text": "Q1. 這個 API 一次會回傳幾筆資料？\n 30\nQ2. 每一筆資料包含哪些欄位？\n id\n title\n excerpt\n anonymousSchool\n anonymousDepartment\n pinned\n forumId\n replyId\n createdAt\n updatedAt\n commentCount\n likeCount\n withNickname\n tags\n topics\n meta\n forumName\n forumAlias\n gender\n school\n department\n replyTitle\n mediaMeta\n reactions\n hidden\n customStyle\n isSuspiciousAccount\n layout\n withImages\n withVideos\n media\n reportReasonText\n postAvatar\n"
    }
   ],
   "source": [
    "# 1. 這個 API 一次會回傳幾筆資料？每一筆資料包含哪些欄位？\n",
    "'''\n",
    "Your Code\n",
    "'''\n",
    "import requests\n",
    "import json\n",
    "r = requests.get('https://www.dcard.tw/_api/forums/pet/posts?popular=true')\n",
    "\n",
    "res = json.loads(r.text)\n",
    "print(\"Q1. 這個 API 一次會回傳幾筆資料？\")\n",
    "print(\" \" + str(len(res)))\n",
    "print(\"Q2. 每一筆資料包含哪些欄位？\")\n",
    "for key in res[0].keys():\n",
    "    print(\" \" + key)"
   ]
  },
  {
   "cell_type": "code",
   "execution_count": 26,
   "metadata": {},
   "outputs": [
    {
     "data": {
      "text/plain": "{'標題': ['養了一隻小老虎！？',\n  '你要工人？',\n  '有人有看過這麼有喜感的貓嗎',\n  '我的夢幻玉米蛇😭',\n  '我家鸚鵡終於敢洗澡了',\n  '天氣好想拍貓 天氣不好想拍貓',\n  '小蝦蝦不知道可不可以上熱門🥺',\n  '柴上柴',\n  '柯基遊櫻花季-短腿到底怎麼拍啦',\n  '#圖 在公園遛天竺鼠ヽ(✿ﾟ▽ﾟ)ノ',\n  '讓天竺鼠可以上高鐵',\n  '不喜歡洗澡的狗',\n  '家寵醜照大公開',\n  '#圖 飼料也有命中注定？！',\n  '家有隻混了米克斯的金吉拉',\n  '看起來很衰的臘腸狗',\n  '（藏獒）天氣這麼好就是要睡覺啊',\n  '換牙什麼都想咬的頭痛貓貓🦷',\n  '新聞蛙蛙蛙',\n  '台中兔兔送養🐰',\n  '柴柴從後面看像什麼！',\n  '習慣躺枕頭睡覺',\n  '#圖#鬆獅蜥#鎖匠師傅？',\n  '當你家的貓在看風景時⋯',\n  '同學你的貓豪口愛(灬ºωº灬)♡',\n  '露屁屁外星人',\n  '來曬一下可爾必思',\n  '家有小三',\n  '學妹揪我一起看貓',\n  '來一份豪邁'],\n '貼文時間': ['2020-02-26T14:44:47.830Z',\n  '2020-02-26T18:35:16.716Z',\n  '2020-02-27T00:41:45.740Z',\n  '2020-02-26T17:59:21.848Z',\n  '2020-02-26T03:59:15.416Z',\n  '2020-02-26T17:05:42.877Z',\n  '2020-02-26T22:13:53.583Z',\n  '2020-02-26T06:47:10.008Z',\n  '2020-02-26T04:03:56.080Z',\n  '2020-02-27T08:00:49.162Z',\n  '2020-02-26T03:17:07.735Z',\n  '2020-02-27T01:06:35.270Z',\n  '2020-02-26T09:51:32.971Z',\n  '2020-02-26T10:30:31.175Z',\n  '2020-02-26T08:26:38.245Z',\n  '2020-02-27T03:24:54.078Z',\n  '2020-02-26T10:52:25.053Z',\n  '2020-02-26T04:03:47.759Z',\n  '2020-02-26T11:04:03.310Z',\n  '2020-02-26T08:30:58.229Z',\n  '2020-02-26T18:19:46.140Z',\n  '2020-02-27T05:50:41.877Z',\n  '2020-02-26T14:20:09.986Z',\n  '2020-02-27T06:48:59.523Z',\n  '2020-02-26T10:36:21.560Z',\n  '2020-02-27T07:09:01.168Z',\n  '2020-02-27T08:19:49.020Z',\n  '2020-02-27T10:14:48.735Z',\n  '2020-02-27T05:18:10.961Z',\n  '2020-02-26T09:55:33.185Z'],\n '留言人數': [124,\n  7,\n  18,\n  13,\n  34,\n  1,\n  10,\n  1,\n  4,\n  1,\n  8,\n  8,\n  9,\n  3,\n  1,\n  0,\n  4,\n  4,\n  9,\n  6,\n  0,\n  2,\n  2,\n  0,\n  0,\n  0,\n  1,\n  0,\n  4,\n  0],\n '按讚人數': [5293,\n  554,\n  413,\n  244,\n  232,\n  102,\n  74,\n  58,\n  31,\n  28,\n  27,\n  23,\n  23,\n  19,\n  18,\n  17,\n  17,\n  16,\n  15,\n  14,\n  11,\n  10,\n  10,\n  9,\n  9,\n  8,\n  7,\n  6,\n  6,\n  6]}"
     },
     "execution_count": 26,
     "metadata": {},
     "output_type": "execute_result"
    }
   ],
   "source": [
    "# 2. 取出每一筆資料的「標題」、「貼文時間」、「留言人數」、「按讚人數」\n",
    "'''\n",
    "Your Code\n",
    "'''\n",
    "data = {\"標題\":[], \"貼文時間\":[], \"留言人數\":[], \"按讚人數\":[] }\n",
    "for rr in res:\n",
    "    data[\"標題\"].append(rr['title'])\n",
    "    data[\"貼文時間\"].append(rr['createdAt'])\n",
    "    data[\"留言人數\"].append(rr['commentCount'])\n",
    "    data[\"按讚人數\"].append(rr['likeCount'])\n",
    "data"
   ]
  },
  {
   "cell_type": "code",
   "execution_count": 30,
   "metadata": {},
   "outputs": [
    {
     "name": "stdout",
     "output_type": "stream",
     "text": "平均留言人數\n9.133333333333333\n平均按讚人數\n243.33333333333334\n"
    }
   ],
   "source": [
    "# 3. 計算熱門/非熱門文章的「平均留言人數」與「平均按讚人數」\n",
    "\n",
    "'''\n",
    "Your Code\n",
    "'''\n",
    "totalCommentCount = 0\n",
    "totalLikeCount = 0\n",
    "totalRecords = len(data[\"留言人數\"])\n",
    "for commentCount in data[\"留言人數\"]:\n",
    "    totalCommentCount+=commentCount;\n",
    "\n",
    "for likeCount in data[\"按讚人數\"]:\n",
    "    totalLikeCount+=likeCount;\n",
    "\n",
    "print(\"平均留言人數\")    \n",
    "print( str(totalCommentCount/totalRecords) )    \n",
    "print(\"平均按讚人數\")    \n",
    "print( str(totalLikeCount/totalRecords) )    \n"
   ]
  },
  {
   "cell_type": "code",
   "execution_count": null,
   "metadata": {},
   "outputs": [],
   "source": []
  },
  {
   "cell_type": "code",
   "execution_count": null,
   "metadata": {},
   "outputs": [],
   "source": []
  }
 ],
 "metadata": {
  "kernelspec": {
   "display_name": "Python 3",
   "language": "python",
   "name": "python3"
  },
  "language_info": {
   "codemirror_mode": {
    "name": "ipython",
    "version": 3
   },
   "file_extension": ".py",
   "mimetype": "text/x-python",
   "name": "python",
   "nbconvert_exporter": "python",
   "pygments_lexer": "ipython3",
   "version": "3.7.3-final"
  }
 },
 "nbformat": 4,
 "nbformat_minor": 2
}
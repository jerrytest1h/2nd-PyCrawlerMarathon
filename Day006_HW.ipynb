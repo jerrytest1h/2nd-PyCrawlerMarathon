{
 "cells": [
  {
   "cell_type": "markdown",
   "metadata": {},
   "source": [
    "# API 資料串接 - 以 知乎 API 實作範例\n",
    "\n",
    "\n",
    "\n",
    "* 了解知乎 API 使用方式與回傳內容\n",
    "* 撰寫程式存取 API 且添加標頭\n",
    "\n",
    "\n"
   ]
  },
  {
   "cell_type": "markdown",
   "metadata": {},
   "source": [
    "## 作業目標\n",
    "\n",
    "* 根據範例提供的 API ，完成以下問題：\n",
    "\n",
    "    1. 取出知乎問題發問時間\n",
    "    2. 取出第一筆與最後一筆回答的時間\n"
   ]
  },
  {
   "cell_type": "markdown",
   "metadata": {},
   "source": [
    "### 1. 取出知乎問題發問時間"
   ]
  },
  {
   "cell_type": "code",
   "execution_count": 16,
   "metadata": {},
   "outputs": [
    {
     "name": "stdout",
     "output_type": "stream",
     "text": "取出知乎問題發問時間\n1486390229\n2017-02-06 22:10:29\n1486390229\n2017-02-06 22:10:29\n1486390229\n2017-02-06 22:10:29\n1486390229\n2017-02-06 22:10:29\n1486390229\n2017-02-06 22:10:29\n"
    }
   ],
   "source": [
    "# 1. 取出知乎問題發問時間\n",
    "'''\n",
    "Your Code\n",
    "'''\n",
    "import requests\n",
    "import json\n",
    "headers =  {'user-agent': 'my-app/0.0.1'}\n",
    "r = requests.get('https://www.zhihu.com/api/v4/questions/55493026/answers', \n",
    "headers=headers)\n",
    "\n",
    "resps = json.loads(r.text)\n",
    "from datetime import datetime\n",
    "\n",
    "print(\"取出知乎問題發問時間\")\n",
    "for data in resps['data']:\n",
    "    print(data[\"question\"][\"created\"])\n",
    "    question_time_date = datetime.fromtimestamp(data[\"question\"][\"created\"])\n",
    "    print(question_time_date)\n"
   ]
  },
  {
   "cell_type": "markdown",
   "metadata": {},
   "source": [
    "### 2. 取出第一筆與最後一筆回答的時間"
   ]
  },
  {
   "cell_type": "code",
   "execution_count": 17,
   "metadata": {},
   "outputs": [
    {
     "name": "stdout",
     "output_type": "stream",
     "text": "取出第一筆與最後一筆回答的時間\n1557824412\n2019-05-14 17:00:12\n1572318426\n2019-10-29 11:07:06\n"
    }
   ],
   "source": [
    "# 2. 取出第一筆與最後一筆回答的時間\n",
    "'''\n",
    "Your Code\n",
    "'''\n",
    "\n",
    "# creatd_time = []\n",
    "print(\"取出第一筆與最後一筆回答的時間\")\n",
    "for (idx, data) in enumerate(resps['data']):\n",
    "    # creatd_time.append(data[\"created_time\"])\n",
    "    if idx == 0:\n",
    "        print(data[\"created_time\"])\n",
    "        question_time_date = datetime.fromtimestamp(data[\"created_time\"])\n",
    "        print(question_time_date)\n",
    "\n",
    "    if (idx + 1) == len(resps['data']):\n",
    "        print(data[\"created_time\"])\n",
    "        question_time_date = datetime.fromtimestamp(data[\"created_time\"])\n",
    "        print(question_time_date)\n",
    "  \n",
    "# while resps['paging']['next']:\n",
    "#     headers =  {'user-agent': 'my-app/0.0.1'}\n",
    "#     r = requests.get(resps['paging']['next'], headers=headers)\n",
    "#     resps = json.loads(r.text)\n",
    "#     print(resps['paging']['next'])\n",
    "\n",
    "\n"
   ]
  },
  {
   "cell_type": "code",
   "execution_count": null,
   "metadata": {},
   "outputs": [],
   "source": []
  },
  {
   "cell_type": "code",
   "execution_count": null,
   "metadata": {},
   "outputs": [],
   "source": []
  },
  {
   "cell_type": "code",
   "execution_count": null,
   "metadata": {},
   "outputs": [],
   "source": []
  }
 ],
 "metadata": {
  "kernelspec": {
   "display_name": "Python 3",
   "language": "python",
   "name": "python3"
  },
  "language_info": {
   "codemirror_mode": {
    "name": "ipython",
    "version": 3
   },
   "file_extension": ".py",
   "mimetype": "text/x-python",
   "name": "python",
   "nbconvert_exporter": "python",
   "pygments_lexer": "ipython3",
   "version": "3.7.3-final"
  }
 },
 "nbformat": 4,
 "nbformat_minor": 2
}
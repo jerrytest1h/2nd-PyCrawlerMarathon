{
 "cells": [
  {
   "cell_type": "markdown",
   "metadata": {},
   "source": [
    "# 實務上的爬蟲與挑戰\n",
    "\n",
    "\n",
    "* 實務上爬蟲可能遇到的問題有哪些\n",
    "* 淺談常見防爬蟲機制與處理策略\n",
    "* 如何建構一個可以自動持續更新的爬蟲程式\n",
    "\n",
    "\n"
   ]
  },
  {
   "cell_type": "markdown",
   "metadata": {},
   "source": [
    "## 作業目標\n",
    "\n",
    "* （簡答題）試著舉出一到三個爬蟲可能會遇到的問題導致無法抓取的？\n"
   ]
  },
  {
   "cell_type": "markdown",
   "metadata": {},
   "source": [
    "### （簡答題）試著舉出一到三個爬蟲可能會遇到的問題導致無法抓取的？"
   ]
  },
  {
   "cell_type": "code",
   "execution_count": 10,
   "metadata": {},
   "outputs": [
    {
     "output_type": "stream",
     "name": "stdout",
     "text": "Ans: \n1. 數據頭User-Agent反爬蟲機制解析\n如果我們使用Python的Requests直接訪問網站，除了網址不提供其他的信息，那麼網站收到的User-Agent是空。這個時候網站就知道我們不是使用瀏覽器訪問的，於是它就可以拒絕我們的訪問\n2. 訪問頻率限制\n大多數情況下，我們遇到的是訪問頻率限制。如果你訪問太快了，網站就會認為你不是一個人。這種情況下需要設定好頻率的閾值，否則有可能誤傷。\n3. 代理IP或者分佈式爬蟲\n如果對頁的爬蟲的效率有要求，那就不能通過設定訪問時間間隔的方法來繞過頻率檢查了。代理IP訪問可以解決這個問題。如果用100個代理IP訪問100個頁面，可以給網站造成一種有100個人，每個人訪問了1頁的錯覺。這樣自然而然就不會限制你的訪問了。\n"
    }
   ],
   "source": [
    "\"\"\"\n",
    "Your Input Here\n",
    "\"\"\"\n",
    "print(\"Ans: \") \n",
    "print(\"1. 數據頭User-Agent反爬蟲機制解析\") \n",
    "print(\"如果我們使用Python的Requests直接訪問網站，除了網址不提供其他的信息，那麼網站收到的User-Agent是空。這個時候網站就知道我們不是使用瀏覽器訪問的，於是它就可以拒絕我們的訪問\")\n",
    "print(\"2. 訪問頻率限制\")\n",
    "print(\"大多數情況下，我們遇到的是訪問頻率限制。如果你訪問太快了，網站就會認為你不是一個人。這種情況下需要設定好頻率的閾值，否則有可能誤傷。\")\n",
    "print(\"3. 代理IP或者分佈式爬蟲\")\n",
    "print(\"如果對頁的爬蟲的效率有要求，那就不能通過設定訪問時間間隔的方法來繞過頻率檢查了。代理IP訪問可以解決這個問題。如果用100個代理IP訪問100個頁面，可以給網站造成一種有100個人，每個人訪問了1頁的錯覺。這樣自然而然就不會限制你的訪問了。\")\n",
    ""
   ]
  },
  {
   "cell_type": "code",
   "execution_count": null,
   "metadata": {},
   "outputs": [],
   "source": []
  },
  {
   "cell_type": "code",
   "execution_count": null,
   "metadata": {},
   "outputs": [],
   "source": []
  },
  {
   "cell_type": "code",
   "execution_count": null,
   "metadata": {},
   "outputs": [],
   "source": []
  }
 ],
 "metadata": {
  "kernelspec": {
   "display_name": "Python 3",
   "language": "python",
   "name": "python3"
  },
  "language_info": {
   "codemirror_mode": {
    "name": "ipython",
    "version": 3
   },
   "file_extension": ".py",
   "mimetype": "text/x-python",
   "name": "python",
   "nbconvert_exporter": "python",
   "pygments_lexer": "ipython3",
   "version": "3.7.3-final"
  }
 },
 "nbformat": 4,
 "nbformat_minor": 2
}
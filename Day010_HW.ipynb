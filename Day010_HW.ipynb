{
 "cells": [
  {
   "cell_type": "markdown",
   "metadata": {},
   "source": [
    "# 其他工具：Grab、PyQuery\n",
    "\n",
    "\n",
    "* 利用 Grab 套件的存取 HTML 資源\n",
    "* 利用 PyQuery 套件的解析 HTML 格式\n"
   ]
  },
  {
   "cell_type": "markdown",
   "metadata": {},
   "source": [
    "## 作業目標\n",
    "\n",
    "將之前用 requests + beatifulsoup 實作的方式，改寫成 grab + pyquery，並且比較有哪些地方不同。\n",
    "\n",
    "\n",
    "\n"
   ]
  },
  {
   "cell_type": "markdown",
   "metadata": {},
   "source": [
    "## requests + BeautifulSoup\n"
   ]
  },
  {
   "cell_type": "code",
   "execution_count": 1,
   "metadata": {},
   "outputs": [],
   "source": [
    "'''\n",
    "Your Code\n",
    "'''\n",
    "import requests\n",
    "import os\n",
    "\n",
    "from bs4 import BeautifulSoup\n",
    "from PIL import Image"
   ]
  },
  {
   "cell_type": "code",
   "execution_count": 2,
   "metadata": {},
   "outputs": [
    {
     "name": "stdout",
     "output_type": "stream",
     "text": "https://i.imgur.com/Cgb5oo1.jpg\nSave image downloads/Cgb5oo1.jpeg\nhttps://i.imgur.com/MgjHY4f.jpg\nSave image downloads/MgjHY4f.jpeg\nhttps://i.imgur.com/yeoRtAs.jpg\nSave image downloads/yeoRtAs.jpeg\nhttps://i.imgur.com/wsauNEW.jpg\nSave image downloads/wsauNEW.jpeg\nhttps://i.imgur.com/IjiETcs.jpg\nSave image downloads/IjiETcs.jpeg\n"
    }
   ],
   "source": [
    "url = 'https://www.ptt.cc/bbs/Beauty/M.1556291059.A.75A.html'\n",
    "resp = requests.get(url, cookies={'over18': '1'})\n",
    "soup = BeautifulSoup(resp.text)\n",
    "\n",
    "# 決定要儲存的資料夾\n",
    "output_dir = 'downloads'\n",
    "\n",
    "# 假如資料夾不存在就新增一個資料夾\n",
    "if not os.path.exists(output_dir):\n",
    "    os.makedirs(output_dir)\n",
    "\n",
    "# 定位所有圖片的 tag\n",
    "image_tags = soup.find(id='main-content').findChildren('a', recursive=False)\n",
    "for img_tag in image_tags:\n",
    "    # 取得所有圖片在第三方服務的 id\n",
    "    if 'imgur' not in img_tag['href']:\n",
    "        continue\n",
    "    img_id = img_tag['href'].split('/')[-1]\n",
    "    # 組合圖片而非網站的網址\n",
    "    img_url = 'https://i.imgur.com/{}.jpg'.format(img_id)\n",
    "    print(img_url)\n",
    "    # 對圖片送出請求\n",
    "    with requests.get(img_url, stream=True) as r:\n",
    "        r.raise_for_status()\n",
    "        # 檢查圖片副檔名\n",
    "        img = Image.open(r.raw)\n",
    "        img_savename = '{outdir}/{img_id}.{img_ext}'.format(\n",
    "            outdir=output_dir, img_id=img_id, img_ext=img.format.lower())\n",
    "        img.save(img_savename)\n",
    "        print('Save image {}'.format(img_savename))"
   ]
  },
  {
   "cell_type": "markdown",
   "metadata": {},
   "source": [
    "## Grab + PyQuery"
   ]
  },
  {
   "cell_type": "code",
   "execution_count": 4,
   "metadata": {},
   "outputs": [],
   "source": [
    "'''\n",
    "Your Code\n",
    "'''\n",
    "from grab import Grab\n",
    "from pyquery import PyQuery as pq"
   ]
  },
  {
   "cell_type": "code",
   "execution_count": 8,
   "metadata": {},
   "outputs": [],
   "source": [
    "g=Grab()\n",
    "g.setup(cookies={'over18': '1'})\n",
    "resp = g.go(url)  \n",
    "doc = pq(resp.body)"
   ]
  },
  {
   "cell_type": "code",
   "execution_count": 25,
   "metadata": {},
   "outputs": [
    {
     "name": "stdout",
     "output_type": "stream",
     "text": "https://i.imgur.com/Cgb5oo1.jpg\nSave image downloads2/Cgb5oo1.jpeg\nhttps://i.imgur.com/Cgb5oo1.jpg\nSave image downloads2/Cgb5oo1.jpeg\nhttps://i.imgur.com/MgjHY4f.jpg\nSave image downloads2/MgjHY4f.jpeg\nhttps://i.imgur.com/MgjHY4f.jpg\nSave image downloads2/MgjHY4f.jpeg\nhttps://i.imgur.com/yeoRtAs.jpg\nSave image downloads2/yeoRtAs.jpeg\nhttps://i.imgur.com/yeoRtAs.jpg\nSave image downloads2/yeoRtAs.jpeg\nhttps://i.imgur.com/wsauNEW.jpg\nSave image downloads2/wsauNEW.jpeg\nhttps://i.imgur.com/wsauNEW.jpg\nSave image downloads2/wsauNEW.jpeg\nhttps://i.imgur.com/IjiETcs.jpg\nSave image downloads2/IjiETcs.jpeg\nhttps://i.imgur.com/IjiETcs.jpg\nSave image downloads2/IjiETcs.jpeg\n"
    }
   ],
   "source": [
    "# 決定要儲存的資料夾\n",
    "output_dir2 = 'downloads2'\n",
    "\n",
    "# 假如資料夾不存在就新增一個資料夾\n",
    "if not os.path.exists(output_dir2):\n",
    "    os.makedirs(output_dir2)\n",
    "\n",
    "# 定位所有圖片的 tag\n",
    "image_tags = doc('#main-content a')\n",
    "for img_tag in image_tags.items():\n",
    "    if 'imgur' not in img_tag.attr('href'):\n",
    "        continue\n",
    "    img_id = img_tag.attr('href').split('/')[-1]\n",
    "    # 組合圖片而非網站的網址\n",
    "    img_url = 'https://i.imgur.com/{}.jpg'.format(img_id)\n",
    "    print(img_url)\n",
    "    # 對圖片送出請求\n",
    "    with requests.get(img_url, stream=True) as r:\n",
    "        r.raise_for_status()\n",
    "        # 檢查圖片副檔名\n",
    "        img = Image.open(r.raw)\n",
    "        img_savename = '{outdir}/{img_id}.{img_ext}'.format(\n",
    "            outdir=output_dir2, img_id=img_id, img_ext=img.format.lower())\n",
    "        img.save(img_savename)\n",
    "        print('Save image {}'.format(img_savename)) \n",
    "    "
   ]
  },
  {
   "cell_type": "code",
   "execution_count": null,
   "metadata": {},
   "outputs": [],
   "source": []
  }
 ],
 "metadata": {
  "kernelspec": {
   "display_name": "Python 3",
   "language": "python",
   "name": "python3"
  },
  "language_info": {
   "codemirror_mode": {
    "name": "ipython",
    "version": 3
   },
   "file_extension": ".py",
   "mimetype": "text/x-python",
   "name": "python",
   "nbconvert_exporter": "python",
   "pygments_lexer": "ipython3",
   "version": "3.7.3-final"
  }
 },
 "nbformat": 4,
 "nbformat_minor": 2
}
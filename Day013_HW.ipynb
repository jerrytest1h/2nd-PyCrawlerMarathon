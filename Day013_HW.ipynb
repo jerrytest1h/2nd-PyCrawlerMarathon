{
 "cells": [
  {
   "cell_type": "markdown",
   "metadata": {},
   "source": [
    "# PTT 網路爬蟲實作練習\n",
    "\n",
    "\n",
    "* 能夠利用 Request + BeatifulSour 撰寫爬蟲，並存放到合適的資料結構\n"
   ]
  },
  {
   "cell_type": "markdown",
   "metadata": {},
   "source": [
    "## 作業目標\n",
    "\n",
    "根據範例 ，完成以下問題：\n",
    "\n",
    "* ① 印出最新文章的「作者」「標題」「時間」\n",
    "* ② 印出第一頁所有文章的「作者」「標題」「時間」\n"
   ]
  },
  {
   "cell_type": "markdown",
   "metadata": {},
   "source": [
    "### ① 印出最新文章的「作者」「標題」「時間」"
   ]
  },
  {
   "cell_type": "code",
   "execution_count": 14,
   "metadata": {},
   "outputs": [
    {
     "name": "stdout",
     "output_type": "stream",
     "text": "標題：[討論] NBA停賽的可能性?!\n作者：sthho\n時間： 3/09\n標題：[BOX ] Raptors 118:113 Kings 數據\n作者：Rambo\n時間： 3/09\n標題：[公告] 第一次被退文，可在三天後刪除退文\n作者：Vedan\n時間： 3/09\n標題：[新聞]全陣快艇吞第一敗 湖人本季洛城內戰首開\n作者：sodistrues\n時間： 3/09\n標題：[情報] 雷霆本季16次前三節落後逆轉勝 聯盟最多\n作者：NSYSUheng\n時間： 3/09\n標題：[討論] 快艇是不是被騙了買到假貨啊\n作者：MayBeSoft\n時間： 3/09\n標題：[花邊] 球迷嗆Walton：你這白痴，你有三分冠軍\n作者：UCAthena\n時間： 3/09\n標題：Re: [花邊] 歐尼爾:誰能擊敗這五個人！\n作者：IAMGRICE\n時間： 3/09\n標題：Re: [BOX ] Lakers 112:103 Clippers 數據\n作者：ericgary\n時間： 3/09\n標題：[情報] 28次失誤?籃網臨時教練:前7個是球有點滑\n作者：manuginobii\n時間： 3/09\n標題：[情報] SNY記者：一些籃網老將質疑阿特金森能否\n作者：KyrieIrving1\n時間： 3/09\n標題：[公告] 板規v6.8\n作者：Vedan\n時間： 5/24\n標題：[公告] 版主上任相關事項\n作者：qazwsx879345\n時間：10/25\n標題：[情報] SEASON Schedule 賽程 March 19–20\n作者：Acetoxy\n時間： 3/02\n標題：Fw: [公告] 即日起開放 NTU 信箱註冊帳號\n作者：Vedan\n時間： 3/04\n標題：Fw: [公告] 台灣大學學生帳號註冊辦法\n作者：Vedan\n時間： 3/04\n"
    }
   ],
   "source": [
    "'''\n",
    "Your Code\n",
    "'''\n",
    "import requests\n",
    "from bs4 import BeautifulSoup\n",
    "\n",
    "url = 'https://www.ptt.cc/bbs/NBA/index.html'\n",
    "r = requests.get(url)\n",
    "\n",
    "soup = BeautifulSoup(r.text, \"html5lib\")\n",
    "\n",
    "for d in soup.find_all(class_=\"r-ent\"):\n",
    "    print(\"標題：\" + d.find(class_=\"title\").text.strip())\n",
    "    print(\"作者：\" + d.find(class_=\"author\").text)\n",
    "    print(\"時間：\" + d.find(class_=\"date\").text)\n"
   ]
  },
  {
   "cell_type": "markdown",
   "metadata": {},
   "source": [
    "### ② 印出第一頁所有文章的「作者」「標題」「時間」"
   ]
  },
  {
   "cell_type": "code",
   "execution_count": 15,
   "metadata": {},
   "outputs": [
    {
     "name": "stdout",
     "output_type": "stream",
     "text": "標題：[轉錄]Lyotard 對於太陽板討論串的結論\n作者：Price\n時間： 5/16\n標題：[公告] 請停止一切關於本次活動的發言\n作者：Price\n時間： 5/31\n標題：[轉錄]跟之前那篇比起來 我覺得這篇也應該轉過來\n作者：Frankaze\n時間： 6/08\n標題：[轉錄]再轉一篇好文來\n作者：Frankaze\n時間： 6/08\n標題：[轉錄][情報] 夏洛特山貓系列\n作者：Price\n時間： 6/10\n標題：[轉錄]Re: [心得] 真是受不了糗爺....\n作者：Price\n時間： 6/10\n標題：[轉錄]總冠軍賽NO.2觀後感\n作者：Price\n時間： 6/10\n標題：[心得] Rasheed Wallace\n作者：AmuroNamie\n時間： 6/11\n標題：掌控球賽的男人\n作者：toptree\n時間： 6/12\n標題：[閒聊] 說說2004季後賽名場面回顧\n作者：skchang\n時間： 6/12\n標題：[心得] 其實說穿了 就是活塞的防守太可怕了\n作者：shineup\n時間： 6/12\n標題：Re: [閒聊] 說說2004季後賽名場面回顧\n作者：cOvi\n時間： 6/12\n標題：Re: [閒聊] 說說2004季後賽名場面回顧\n作者：ykshih\n時間： 6/12\n標題：Re: [閒聊] 說說2004季後賽名場面回顧\n作者：Frankaze\n時間： 6/12\n標題：[轉錄]Re: 總冠軍賽NO.3觀後感\n作者：Price\n時間： 6/14\n標題：[轉錄]Re: 總冠軍賽NO.3觀後感\n作者：Frankaze\n時間： 6/14\n標題：Re: [轉錄]Re: 總冠軍賽NO.3觀後感\n作者：star1\n時間： 6/14\n標題：Re: [轉錄]Re: 總冠軍賽NO.3觀後感\n作者：coldspring\n時間： 6/14\n標題：Re: Kobe is frustrated...\n作者：airbear\n時間： 6/14\n標題：Re: [轉錄]Re: 總冠軍賽NO.3觀後感\n作者：pennykidd\n時間： 6/14\n"
    }
   ],
   "source": [
    "'''\n",
    "Your Code\n",
    "'''\n",
    "\n",
    "url = 'https://www.ptt.cc/bbs/NBA/index1.html'\n",
    "r = requests.get(url)\n",
    "\n",
    "soup = BeautifulSoup(r.text, \"html5lib\")\n",
    "\n",
    "for d in soup.find_all(class_=\"r-ent\"):\n",
    "    print(\"標題：\" + d.find(class_=\"title\").text.strip())\n",
    "    print(\"作者：\" + d.find(class_=\"author\").text)\n",
    "    print(\"時間：\" + d.find(class_=\"date\").text)\n"
   ]
  },
  {
   "cell_type": "markdown",
   "metadata": {},
   "source": [
    "### ③ 試著爬爬看其他版的文章"
   ]
  },
  {
   "cell_type": "code",
   "execution_count": 16,
   "metadata": {},
   "outputs": [
    {
     "name": "stdout",
     "output_type": "stream",
     "text": "標題：[情報] 3/18前 街口x珍煮丹 最高24%回饋\n作者：Ken52039\n時間： 3/09\n標題：(本文已被刪除) [currykukuo]\n作者：-\n時間： 3/09\n標題：[新聞] 力挺抗疫前線 全聯請醫護／救護人員喝10萬杯咖啡\n作者：currykukuo\n時間： 3/09\n標題：(本文已被刪除) [nanakolin]\n作者：-\n時間： 3/09\n標題：[情報] 好市多飛利浦電動牙刷特價中\n作者：ethan5566\n時間： 3/09\n標題：[情報] 嬌蘭官網 line 8%回饋 3/9-3/11\n作者：dewuzih\n時間： 3/09\n標題：[公告] 省錢板板規 2018.11.12\n作者：kadasaki\n時間： 6/11\n標題：[公告] 違規檢舉區\n作者：medama\n時間：12/19\n標題：[公告] 未滿1元之集點資訊 請集中在本篇推文\n作者：medama\n時間： 3/08\n"
    }
   ],
   "source": [
    "'''\n",
    "Your Code\n",
    "'''\n",
    "\n",
    "url = 'https://www.ptt.cc/bbs/Lifeismoney/index.html'\n",
    "r = requests.get(url)\n",
    "\n",
    "soup = BeautifulSoup(r.text, \"html5lib\")\n",
    "\n",
    "for d in soup.find_all(class_=\"r-ent\"):\n",
    "    print(\"標題：\" + d.find(class_=\"title\").text.strip())\n",
    "    print(\"作者：\" + d.find(class_=\"author\").text)\n",
    "    print(\"時間：\" + d.find(class_=\"date\").text)"
   ]
  },
  {
   "cell_type": "code",
   "execution_count": null,
   "metadata": {},
   "outputs": [],
   "source": []
  }
 ],
 "metadata": {
  "kernelspec": {
   "display_name": "Python 3",
   "language": "python",
   "name": "python3"
  },
  "language_info": {
   "codemirror_mode": {
    "name": "ipython",
    "version": 3
   },
   "file_extension": ".py",
   "mimetype": "text/x-python",
   "name": "python",
   "nbconvert_exporter": "python",
   "pygments_lexer": "ipython3",
   "version": "3.7.3-final"
  }
 },
 "nbformat": 4,
 "nbformat_minor": 2
}
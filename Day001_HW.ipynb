{
 "nbformat": 4,
 "nbformat_minor": 2,
 "metadata": {
  "language_info": {
   "name": "python",
   "codemirror_mode": {
    "name": "ipython",
    "version": 3
   },
   "version": "3.7.3-final"
  },
  "orig_nbformat": 2,
  "file_extension": ".py",
  "mimetype": "text/x-python",
  "name": "python",
  "npconvert_exporter": "python",
  "pygments_lexer": "ipython3",
  "version": 3,
  "kernelspec": {
   "name": "python3",
   "display_name": "Python 3"
  }
 },
 "cells": [
  {
   "cell_type": "code",
   "execution_count": null,
   "metadata": {},
   "outputs": [],
   "source": [
    "####\n",
    "####       1.（簡答題）檔案、API、爬蟲三種取得資料方式有什麼不同？\n",
    "####\n",
    "####     答:  檔案 & API 是由資料擁有者主動釋出，爬蟲則是資料擁有者被動公開的。\n",
    "####\n",
    "\n",
    "####       2.（實作）完成一個程式，需滿足下列需求：\n",
    "####     答:\n",
    "from urllib.request import urlretrieve\n",
    "import os\n",
    "urlretrieve (\"https://www.w3.org/TR/PNG/iso_8859-1.txt\", \"Homework.txt\") \n",
    "fh = open(\"Homework.txt\", \"r\")\n",
    "for line in fh.readlines():\n",
    "    print(line) \n",
    "fh.close()"
   ]
  },
  {
   "cell_type": "code",
   "execution_count": null,
   "metadata": {},
   "outputs": [],
   "source": [
    "f = open(\"Homework.txt\", \"w\")\n",
    "seq = \"Hello World\"\n",
    "f.write( seq )\n",
    "f.close()\n",
    "\n",
    "fh = open(\"Homework.txt\", \"r\")\n",
    "for line in fh.readlines():\n",
    "    print(line) \n",
    "fh.close()"
   ]
  },
  {
   "cell_type": "code",
   "execution_count": null,
   "metadata": {},
   "outputs": [],
   "source": [
    "statinfo = os.stat('Homework.txt')\n",
    "statinfo.st_size\n"
   ]
  }
 ]
}
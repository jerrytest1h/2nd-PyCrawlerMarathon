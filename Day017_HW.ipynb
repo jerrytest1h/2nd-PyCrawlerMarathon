{
 "cells": [
  {
   "cell_type": "markdown",
   "metadata": {},
   "source": [
    "# HTTP 動態網頁架構說明\n",
    "\n",
    "\n",
    "* 了解動態網頁的資料爬蟲策略\n",
    "* 知道非同步網頁載入機制（Ajax）\n",
    "* 學習兩種對應動態網頁爬蟲的的策略\n"
   ]
  },
  {
   "cell_type": "markdown",
   "metadata": {},
   "source": [
    "## 作業目標\n",
    "\n",
    "回答以下問題：\n",
    "\n",
    "1. 動態網頁跟靜態網頁的差別是什麼？原本靜態網頁的做法會產生什麼問題或是缺點？\n",
    "2. 還記得我們在 ETTODAY 靜態爬蟲實作練習中，有請大家完成一個題目「取出今天所有的發文」，但仔細看其實並沒有真的把當天所有的新聞都抓回來， 試著回答看看原因是什麼？及該如何檢查？\n"
   ]
  },
  {
   "cell_type": "markdown",
   "metadata": {},
   "source": [
    "### 1. 動態網頁跟靜態網頁的差別是什麼？原本靜態網頁的做法會產生什麼問題或是缺點？"
   ]
  },
  {
   "cell_type": "code",
   "execution_count": 2,
   "metadata": {},
   "outputs": [
    {
     "name": "stdout",
     "output_type": "stream",
     "text": "回答：動態網頁是一個對所有動態生成與動態更新的網頁的統稱。與傳統的靜態網頁相反，它會因為變數的改變而產生不同的網頁。這既可能是伺服器端生成的網頁，也可能是用戶端生成的網頁，或是兩者的混合。若使用靜態網頁做法會造成只取到部分資料\n"
    }
   ],
   "source": [
    "'''\n",
    "Your Input\n",
    "'''\n",
    "print(\"回答：動態網頁是一個對所有動態生成與動態更新的網頁的統稱。與傳統的靜態網頁相反，它會因為變數的改變而產生不同的網頁。這既可能是伺服器端生成的網頁，也可能是用戶端生成的網頁，或是兩者的混合。若使用靜態網頁做法會造成只取到部分資料\")\n"
   ]
  },
  {
   "cell_type": "markdown",
   "metadata": {},
   "source": [
    "### 2. 還記得我們在 ETTODAY 靜態爬蟲實作練習中，有請大家完成一個題目「取出今天所有的發文」，但仔細看其實並沒有真的把當天所有的新聞都抓回來， 試著回答看看原因是什麼？及該如何檢查？"
   ]
  },
  {
   "cell_type": "code",
   "execution_count": 4,
   "metadata": {},
   "outputs": [
    {
     "name": "stdout",
     "output_type": "stream",
     "text": "回答：因效能考量預設僅會提供部分筆數並提供各個不同頁面的網址, 若需要當天的所有發文資料需要觸發捲軸滾動事件, 捲動事件會觸發AJAX到伺服器端取資料\n"
    }
   ],
   "source": [
    "'''\n",
    "Your Input\n",
    "'''\n",
    "print(\"回答：因效能考量預設僅會提供部分筆數並提供各個不同頁面的網址, 若需要當天的所有發文資料需要觸發捲軸滾動事件, 捲動事件會觸發AJAX到伺服器端取資料\")"
   ]
  },
  {
   "cell_type": "code",
   "execution_count": null,
   "metadata": {},
   "outputs": [],
   "source": []
  }
 ],
 "metadata": {
  "kernelspec": {
   "display_name": "Python 3",
   "language": "python",
   "name": "python3"
  },
  "language_info": {
   "codemirror_mode": {
    "name": "ipython",
    "version": 3
   },
   "file_extension": ".py",
   "mimetype": "text/x-python",
   "name": "python",
   "nbconvert_exporter": "python",
   "pygments_lexer": "ipython3",
   "version": "3.7.3-final"
  }
 },
 "nbformat": 4,
 "nbformat_minor": 2
}